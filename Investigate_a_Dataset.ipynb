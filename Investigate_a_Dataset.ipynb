{
 "cells": [
  {
   "cell_type": "markdown",
   "metadata": {},
   "source": [
    "\n",
    "# Investigation of the Dataset: No-show Medical Appointments \n",
    "\n",
    "## Table of Contents\n",
    "<ul>\n",
    "<li><a href=\"#intro\">Introduction</a></li>\n",
    "<li><a href=\"#wrangling\">Data Wrangling</a></li>\n",
    "<li><a href=\"#eda\">Exploratory Data Analysis</a></li>\n",
    "<li><a href=\"#conclusions\">Conclusions</a></li>\n",
    "</ul>"
   ]
  },
  {
   "cell_type": "markdown",
   "metadata": {},
   "source": [
    "<a id='intro'></a>\n",
    "## Introduction\n",
    "\n",
    "I am goint to investigate the **No-show appointments** dataset, which collects information from 100k medical appointments in Brazil and is focused on the question of whether or not patients show up for their appointment. A number of characteristics about the patient are included in each row.\n",
    "\n",
    "This dataset does not have many variables, so it will be necessary to make good use of all of them in order to answer as many questions as we can. Let's take a look at out Data Dictionary:\n",
    "  \n",
    "**Independent variables:**\n",
    "><li> PatientId: Identification of a patient\n",
    "><li> AppointmentID: Identification of each appointment\n",
    "><li> Gender: Male or Female . Female is the greater proportion\n",
    "><li> ScheduledDay: The day of the actuall appointment, when they have to visit the doctor.\n",
    "><li> AppointmentDay: The day someone called/registered the appointment.\n",
    "><li> Age: How old is the patient.\n",
    "><li> Neighborhood: here the appointment takes place.\n",
    "\n",
    ">**Categorical variables** *(True or False)*:\n",
    "\n",
    "><li> Scholarship: indicates if the patient is enrolled in Brasilian welfare Bolsa Familia.\n",
    "><li> Hypertension: indicates if the patient has hypertension\n",
    "><li> Diabetes: indicates if the patient has diabetes\n",
    "><li> Alcoholism: indicates if the patient is an alcoholic\n",
    "><li> Handcap: indicates if the patient is handicapped\n",
    "><li> SMS_received: 1 or more messages sent to the patient\n",
    "\n",
    "**Dependent variable:**\n",
    "\n",
    "><li> No-show: it says ‘No’ if the patient showed up to their appointment, and ‘Yes’ if they did not show up.\n",
    "    \n",
    "\n",
    "### Questions:\n",
    "\n",
    "Every hospital would love to predict whether a patient will show up or not, as this would optimize appointments with the doctor allowing more patients to be attended during the day and reducing the waiting time in the hospital.\n",
    "\n",
    "  - **Question 1:** What is the proportion of patients who showed up and did not showed up?\n",
    "  - **Question 2:** What is the patient age distribution of shows versus no_shows?\n",
    "\n",
    "  - **Question 3:** Is there a relationship between the gender and the Appointment status?\n",
    "  - **Question 4:** Is there a relationship between being involved in a scholarship and the status of the appointment?\n",
    "  - **Question 5:** Is there a relationship between the patient health designation and the status of the appointment?\n",
    "  - **Question 6:** Top 10 neighborhoods with the highest number of no-show ups?\n",
    "  - **Question 7:** Is there a specific day of the week in which more not show ups occur?\n",
    "  - **Question 8:** Does the waiting days period of time affect the status of the appointment?\n",
    " \n",
    "\n",
    "  "
   ]
  },
  {
   "cell_type": "markdown",
   "metadata": {},
   "source": [
    "<a id='wrangling'></a>\n",
    "## Data Wrangling & Data Cleaning\n",
    "\n",
    "**I am going to clean the data as I wrangle it**\n",
    "\n",
    "Data loading, observations, check for cleanliness and trim / clean of the dataset. \n",
    "\n",
    "### General Properties"
   ]
  },
  {
   "cell_type": "code",
   "execution_count": 110,
   "metadata": {},
   "outputs": [],
   "source": [
    "# Import statements for all of the packages that I am going to use\n",
    "\n",
    "import numpy as np\n",
    "import pandas as pd\n",
    "import matplotlib.pyplot as plt\n",
    "import seaborn as sns\n",
    "import warnings\n",
    "%matplotlib inline"
   ]
  },
  {
   "cell_type": "code",
   "execution_count": 111,
   "metadata": {
    "scrolled": true
   },
   "outputs": [
    {
     "data": {
      "text/html": [
       "<div>\n",
       "<style scoped>\n",
       "    .dataframe tbody tr th:only-of-type {\n",
       "        vertical-align: middle;\n",
       "    }\n",
       "\n",
       "    .dataframe tbody tr th {\n",
       "        vertical-align: top;\n",
       "    }\n",
       "\n",
       "    .dataframe thead th {\n",
       "        text-align: right;\n",
       "    }\n",
       "</style>\n",
       "<table border=\"1\" class=\"dataframe\">\n",
       "  <thead>\n",
       "    <tr style=\"text-align: right;\">\n",
       "      <th></th>\n",
       "      <th>PatientId</th>\n",
       "      <th>AppointmentID</th>\n",
       "      <th>Gender</th>\n",
       "      <th>ScheduledDay</th>\n",
       "      <th>AppointmentDay</th>\n",
       "      <th>Age</th>\n",
       "      <th>Neighbourhood</th>\n",
       "      <th>Scholarship</th>\n",
       "      <th>Hipertension</th>\n",
       "      <th>Diabetes</th>\n",
       "      <th>Alcoholism</th>\n",
       "      <th>Handcap</th>\n",
       "      <th>SMS_received</th>\n",
       "      <th>No-show</th>\n",
       "    </tr>\n",
       "  </thead>\n",
       "  <tbody>\n",
       "    <tr>\n",
       "      <th>0</th>\n",
       "      <td>2.987250e+13</td>\n",
       "      <td>5642903</td>\n",
       "      <td>F</td>\n",
       "      <td>2016-04-29T18:38:08Z</td>\n",
       "      <td>2016-04-29T00:00:00Z</td>\n",
       "      <td>62</td>\n",
       "      <td>JARDIM DA PENHA</td>\n",
       "      <td>0</td>\n",
       "      <td>1</td>\n",
       "      <td>0</td>\n",
       "      <td>0</td>\n",
       "      <td>0</td>\n",
       "      <td>0</td>\n",
       "      <td>No</td>\n",
       "    </tr>\n",
       "    <tr>\n",
       "      <th>1</th>\n",
       "      <td>5.589978e+14</td>\n",
       "      <td>5642503</td>\n",
       "      <td>M</td>\n",
       "      <td>2016-04-29T16:08:27Z</td>\n",
       "      <td>2016-04-29T00:00:00Z</td>\n",
       "      <td>56</td>\n",
       "      <td>JARDIM DA PENHA</td>\n",
       "      <td>0</td>\n",
       "      <td>0</td>\n",
       "      <td>0</td>\n",
       "      <td>0</td>\n",
       "      <td>0</td>\n",
       "      <td>0</td>\n",
       "      <td>No</td>\n",
       "    </tr>\n",
       "    <tr>\n",
       "      <th>2</th>\n",
       "      <td>4.262962e+12</td>\n",
       "      <td>5642549</td>\n",
       "      <td>F</td>\n",
       "      <td>2016-04-29T16:19:04Z</td>\n",
       "      <td>2016-04-29T00:00:00Z</td>\n",
       "      <td>62</td>\n",
       "      <td>MATA DA PRAIA</td>\n",
       "      <td>0</td>\n",
       "      <td>0</td>\n",
       "      <td>0</td>\n",
       "      <td>0</td>\n",
       "      <td>0</td>\n",
       "      <td>0</td>\n",
       "      <td>No</td>\n",
       "    </tr>\n",
       "    <tr>\n",
       "      <th>3</th>\n",
       "      <td>8.679512e+11</td>\n",
       "      <td>5642828</td>\n",
       "      <td>F</td>\n",
       "      <td>2016-04-29T17:29:31Z</td>\n",
       "      <td>2016-04-29T00:00:00Z</td>\n",
       "      <td>8</td>\n",
       "      <td>PONTAL DE CAMBURI</td>\n",
       "      <td>0</td>\n",
       "      <td>0</td>\n",
       "      <td>0</td>\n",
       "      <td>0</td>\n",
       "      <td>0</td>\n",
       "      <td>0</td>\n",
       "      <td>No</td>\n",
       "    </tr>\n",
       "    <tr>\n",
       "      <th>4</th>\n",
       "      <td>8.841186e+12</td>\n",
       "      <td>5642494</td>\n",
       "      <td>F</td>\n",
       "      <td>2016-04-29T16:07:23Z</td>\n",
       "      <td>2016-04-29T00:00:00Z</td>\n",
       "      <td>56</td>\n",
       "      <td>JARDIM DA PENHA</td>\n",
       "      <td>0</td>\n",
       "      <td>1</td>\n",
       "      <td>1</td>\n",
       "      <td>0</td>\n",
       "      <td>0</td>\n",
       "      <td>0</td>\n",
       "      <td>No</td>\n",
       "    </tr>\n",
       "  </tbody>\n",
       "</table>\n",
       "</div>"
      ],
      "text/plain": [
       "      PatientId  AppointmentID Gender          ScheduledDay  \\\n",
       "0  2.987250e+13        5642903      F  2016-04-29T18:38:08Z   \n",
       "1  5.589978e+14        5642503      M  2016-04-29T16:08:27Z   \n",
       "2  4.262962e+12        5642549      F  2016-04-29T16:19:04Z   \n",
       "3  8.679512e+11        5642828      F  2016-04-29T17:29:31Z   \n",
       "4  8.841186e+12        5642494      F  2016-04-29T16:07:23Z   \n",
       "\n",
       "         AppointmentDay  Age      Neighbourhood  Scholarship  Hipertension  \\\n",
       "0  2016-04-29T00:00:00Z   62    JARDIM DA PENHA            0             1   \n",
       "1  2016-04-29T00:00:00Z   56    JARDIM DA PENHA            0             0   \n",
       "2  2016-04-29T00:00:00Z   62      MATA DA PRAIA            0             0   \n",
       "3  2016-04-29T00:00:00Z    8  PONTAL DE CAMBURI            0             0   \n",
       "4  2016-04-29T00:00:00Z   56    JARDIM DA PENHA            0             1   \n",
       "\n",
       "   Diabetes  Alcoholism  Handcap  SMS_received No-show  \n",
       "0         0           0        0             0      No  \n",
       "1         0           0        0             0      No  \n",
       "2         0           0        0             0      No  \n",
       "3         0           0        0             0      No  \n",
       "4         1           0        0             0      No  "
      ]
     },
     "execution_count": 111,
     "metadata": {},
     "output_type": "execute_result"
    }
   ],
   "source": [
    "# Load data to a dataframe and visualize the first lines\n",
    "df=pd.read_csv('noshowappointments-kagglev2-may-2016.csv')\n",
    "df.head()"
   ]
  },
  {
   "cell_type": "code",
   "execution_count": 112,
   "metadata": {},
   "outputs": [
    {
     "data": {
      "text/plain": [
       "(110527, 14)"
      ]
     },
     "execution_count": 112,
     "metadata": {},
     "output_type": "execute_result"
    }
   ],
   "source": [
    "# Get information about the shape of the dataframe\n",
    "df.shape"
   ]
  },
  {
   "cell_type": "markdown",
   "metadata": {},
   "source": [
    "- There are 110527 records and 14 columns in the dataset."
   ]
  },
  {
   "cell_type": "markdown",
   "metadata": {},
   "source": [
    "### Observations & Data Cleaning Process"
   ]
  },
  {
   "cell_type": "markdown",
   "metadata": {},
   "source": [
    "**Step 1:** Check the column names to see if we have to rename them:"
   ]
  },
  {
   "cell_type": "code",
   "execution_count": 113,
   "metadata": {
    "scrolled": true
   },
   "outputs": [
    {
     "data": {
      "text/plain": [
       "Index(['PatientId', 'AppointmentID', 'Gender', 'ScheduledDay',\n",
       "       'AppointmentDay', 'Age', 'Neighbourhood', 'Scholarship', 'Hipertension',\n",
       "       'Diabetes', 'Alcoholism', 'Handcap', 'SMS_received', 'No-show'],\n",
       "      dtype='object')"
      ]
     },
     "execution_count": 113,
     "metadata": {},
     "output_type": "execute_result"
    }
   ],
   "source": [
    "df.columns"
   ]
  },
  {
   "cell_type": "code",
   "execution_count": 114,
   "metadata": {},
   "outputs": [],
   "source": [
    "# Let's rename some columns to make it easier to read and nicer\n",
    "df.rename(columns={'PatientId':'Patient_Id',\n",
    "                   'AppointmentID':'Appointment_ID',\n",
    "                   'ScheduledDay':'Scheduled_Day',\n",
    "                   'AppointmentDay':'Appointment_Day',\n",
    "                   'No-show':'No_Show'},inplace=True)"
   ]
  },
  {
   "cell_type": "markdown",
   "metadata": {},
   "source": [
    "**Step 2:** Get information about the variables in the dataframe and make changes if necessary"
   ]
  },
  {
   "cell_type": "code",
   "execution_count": 115,
   "metadata": {
    "scrolled": true
   },
   "outputs": [
    {
     "name": "stdout",
     "output_type": "stream",
     "text": [
      "<class 'pandas.core.frame.DataFrame'>\n",
      "RangeIndex: 110527 entries, 0 to 110526\n",
      "Data columns (total 14 columns):\n",
      "Patient_Id         110527 non-null float64\n",
      "Appointment_ID     110527 non-null int64\n",
      "Gender             110527 non-null object\n",
      "Scheduled_Day      110527 non-null object\n",
      "Appointment_Day    110527 non-null object\n",
      "Age                110527 non-null int64\n",
      "Neighbourhood      110527 non-null object\n",
      "Scholarship        110527 non-null int64\n",
      "Hipertension       110527 non-null int64\n",
      "Diabetes           110527 non-null int64\n",
      "Alcoholism         110527 non-null int64\n",
      "Handcap            110527 non-null int64\n",
      "SMS_received       110527 non-null int64\n",
      "No_Show            110527 non-null object\n",
      "dtypes: float64(1), int64(8), object(5)\n",
      "memory usage: 11.8+ MB\n"
     ]
    }
   ],
   "source": [
    "df.info()"
   ]
  },
  {
   "cell_type": "markdown",
   "metadata": {},
   "source": [
    "As we can see in the previous query, there are **no missing values** in the dataset. \n",
    "\n",
    "Although, some variable type changes are necessary:\n",
    "\n",
    "- Patient_Id to **int**\n",
    "- Scheduled_Day and Appointment_ID to **datetime**"
   ]
  },
  {
   "cell_type": "code",
   "execution_count": 116,
   "metadata": {},
   "outputs": [
    {
     "data": {
      "text/html": [
       "<div>\n",
       "<style scoped>\n",
       "    .dataframe tbody tr th:only-of-type {\n",
       "        vertical-align: middle;\n",
       "    }\n",
       "\n",
       "    .dataframe tbody tr th {\n",
       "        vertical-align: top;\n",
       "    }\n",
       "\n",
       "    .dataframe thead th {\n",
       "        text-align: right;\n",
       "    }\n",
       "</style>\n",
       "<table border=\"1\" class=\"dataframe\">\n",
       "  <thead>\n",
       "    <tr style=\"text-align: right;\">\n",
       "      <th></th>\n",
       "      <th>Patient_Id</th>\n",
       "      <th>Appointment_ID</th>\n",
       "      <th>Gender</th>\n",
       "      <th>Scheduled_Day</th>\n",
       "      <th>Appointment_Day</th>\n",
       "      <th>Age</th>\n",
       "      <th>Neighbourhood</th>\n",
       "      <th>Scholarship</th>\n",
       "      <th>Hipertension</th>\n",
       "      <th>Diabetes</th>\n",
       "      <th>Alcoholism</th>\n",
       "      <th>Handcap</th>\n",
       "      <th>SMS_received</th>\n",
       "      <th>No_Show</th>\n",
       "    </tr>\n",
       "  </thead>\n",
       "  <tbody>\n",
       "    <tr>\n",
       "      <th>0</th>\n",
       "      <td>29872499824296</td>\n",
       "      <td>5642903</td>\n",
       "      <td>F</td>\n",
       "      <td>2016-04-29 18:38:08</td>\n",
       "      <td>2016-04-29</td>\n",
       "      <td>62</td>\n",
       "      <td>JARDIM DA PENHA</td>\n",
       "      <td>0</td>\n",
       "      <td>1</td>\n",
       "      <td>0</td>\n",
       "      <td>0</td>\n",
       "      <td>0</td>\n",
       "      <td>0</td>\n",
       "      <td>No</td>\n",
       "    </tr>\n",
       "    <tr>\n",
       "      <th>1</th>\n",
       "      <td>558997776694438</td>\n",
       "      <td>5642503</td>\n",
       "      <td>M</td>\n",
       "      <td>2016-04-29 16:08:27</td>\n",
       "      <td>2016-04-29</td>\n",
       "      <td>56</td>\n",
       "      <td>JARDIM DA PENHA</td>\n",
       "      <td>0</td>\n",
       "      <td>0</td>\n",
       "      <td>0</td>\n",
       "      <td>0</td>\n",
       "      <td>0</td>\n",
       "      <td>0</td>\n",
       "      <td>No</td>\n",
       "    </tr>\n",
       "    <tr>\n",
       "      <th>2</th>\n",
       "      <td>4262962299951</td>\n",
       "      <td>5642549</td>\n",
       "      <td>F</td>\n",
       "      <td>2016-04-29 16:19:04</td>\n",
       "      <td>2016-04-29</td>\n",
       "      <td>62</td>\n",
       "      <td>MATA DA PRAIA</td>\n",
       "      <td>0</td>\n",
       "      <td>0</td>\n",
       "      <td>0</td>\n",
       "      <td>0</td>\n",
       "      <td>0</td>\n",
       "      <td>0</td>\n",
       "      <td>No</td>\n",
       "    </tr>\n",
       "    <tr>\n",
       "      <th>3</th>\n",
       "      <td>867951213174</td>\n",
       "      <td>5642828</td>\n",
       "      <td>F</td>\n",
       "      <td>2016-04-29 17:29:31</td>\n",
       "      <td>2016-04-29</td>\n",
       "      <td>8</td>\n",
       "      <td>PONTAL DE CAMBURI</td>\n",
       "      <td>0</td>\n",
       "      <td>0</td>\n",
       "      <td>0</td>\n",
       "      <td>0</td>\n",
       "      <td>0</td>\n",
       "      <td>0</td>\n",
       "      <td>No</td>\n",
       "    </tr>\n",
       "    <tr>\n",
       "      <th>4</th>\n",
       "      <td>8841186448183</td>\n",
       "      <td>5642494</td>\n",
       "      <td>F</td>\n",
       "      <td>2016-04-29 16:07:23</td>\n",
       "      <td>2016-04-29</td>\n",
       "      <td>56</td>\n",
       "      <td>JARDIM DA PENHA</td>\n",
       "      <td>0</td>\n",
       "      <td>1</td>\n",
       "      <td>1</td>\n",
       "      <td>0</td>\n",
       "      <td>0</td>\n",
       "      <td>0</td>\n",
       "      <td>No</td>\n",
       "    </tr>\n",
       "    <tr>\n",
       "      <th>5</th>\n",
       "      <td>95985133231274</td>\n",
       "      <td>5626772</td>\n",
       "      <td>F</td>\n",
       "      <td>2016-04-27 08:36:51</td>\n",
       "      <td>2016-04-29</td>\n",
       "      <td>76</td>\n",
       "      <td>REPÚBLICA</td>\n",
       "      <td>0</td>\n",
       "      <td>1</td>\n",
       "      <td>0</td>\n",
       "      <td>0</td>\n",
       "      <td>0</td>\n",
       "      <td>0</td>\n",
       "      <td>No</td>\n",
       "    </tr>\n",
       "  </tbody>\n",
       "</table>\n",
       "</div>"
      ],
      "text/plain": [
       "        Patient_Id  Appointment_ID Gender       Scheduled_Day Appointment_Day  \\\n",
       "0   29872499824296         5642903      F 2016-04-29 18:38:08      2016-04-29   \n",
       "1  558997776694438         5642503      M 2016-04-29 16:08:27      2016-04-29   \n",
       "2    4262962299951         5642549      F 2016-04-29 16:19:04      2016-04-29   \n",
       "3     867951213174         5642828      F 2016-04-29 17:29:31      2016-04-29   \n",
       "4    8841186448183         5642494      F 2016-04-29 16:07:23      2016-04-29   \n",
       "5   95985133231274         5626772      F 2016-04-27 08:36:51      2016-04-29   \n",
       "\n",
       "   Age      Neighbourhood  Scholarship  Hipertension  Diabetes  Alcoholism  \\\n",
       "0   62    JARDIM DA PENHA            0             1         0           0   \n",
       "1   56    JARDIM DA PENHA            0             0         0           0   \n",
       "2   62      MATA DA PRAIA            0             0         0           0   \n",
       "3    8  PONTAL DE CAMBURI            0             0         0           0   \n",
       "4   56    JARDIM DA PENHA            0             1         1           0   \n",
       "5   76          REPÚBLICA            0             1         0           0   \n",
       "\n",
       "   Handcap  SMS_received No_Show  \n",
       "0        0             0      No  \n",
       "1        0             0      No  \n",
       "2        0             0      No  \n",
       "3        0             0      No  \n",
       "4        0             0      No  \n",
       "5        0             0      No  "
      ]
     },
     "execution_count": 116,
     "metadata": {},
     "output_type": "execute_result"
    }
   ],
   "source": [
    "# We want to get rid of the float type and convert the Patient_ID to int64, also in\n",
    "# order to operate with the '...Day' columns, we need to change its type to datetime.\n",
    "\n",
    "df['Patient_Id']=df['Patient_Id'].astype('int64')\n",
    "df['Scheduled_Day']=pd.to_datetime(df['Scheduled_Day'])\n",
    "df['Appointment_Day']=pd.to_datetime(df['Appointment_Day'])\n",
    "\n",
    "df.head(6)"
   ]
  },
  {
   "cell_type": "markdown",
   "metadata": {},
   "source": [
    ">**Create new columns** "
   ]
  },
  {
   "cell_type": "markdown",
   "metadata": {},
   "source": [
    "- We won't be able to use the time of the appointment day, since it looks like they are marked as 00:00:00\n",
    "- It'll be helpfull for further studies if we create a new column showing how long the patient has been waiting for the medical appointment\n"
   ]
  },
  {
   "cell_type": "code",
   "execution_count": 117,
   "metadata": {},
   "outputs": [
    {
     "data": {
      "text/plain": [
       "0         -1\n",
       "1         -1\n",
       "2         -1\n",
       "3         -1\n",
       "4         -1\n",
       "5          1\n",
       "6          1\n",
       "7          1\n",
       "8         -1\n",
       "9          1\n",
       "10         1\n",
       "11         2\n",
       "12         0\n",
       "13         0\n",
       "14         0\n",
       "15         2\n",
       "16         0\n",
       "17         0\n",
       "18         2\n",
       "19        -1\n",
       "20         1\n",
       "21         1\n",
       "22         3\n",
       "23         0\n",
       "24        -1\n",
       "25         2\n",
       "26        -1\n",
       "27         1\n",
       "28        -1\n",
       "29        -1\n",
       "          ..\n",
       "110497    -1\n",
       "110498    -1\n",
       "110499    -1\n",
       "110500    -1\n",
       "110501    -1\n",
       "110502    -1\n",
       "110503    -1\n",
       "110504    -1\n",
       "110505    -1\n",
       "110506    -1\n",
       "110507    -1\n",
       "110508    -1\n",
       "110509    -1\n",
       "110510    -1\n",
       "110511    -1\n",
       "110512    -1\n",
       "110513    -1\n",
       "110514    -1\n",
       "110515     1\n",
       "110516     0\n",
       "110517    -1\n",
       "110518    40\n",
       "110519    40\n",
       "110520    34\n",
       "110521    34\n",
       "110522    34\n",
       "110523    34\n",
       "110524    40\n",
       "110525    40\n",
       "110526    40\n",
       "Name: Waiting_Days, Length: 110527, dtype: int64"
      ]
     },
     "execution_count": 117,
     "metadata": {},
     "output_type": "execute_result"
    }
   ],
   "source": [
    "# Create the new column Waiting_Days\n",
    "\n",
    "df['Waiting_Days'] = (df.Appointment_Day-df.Scheduled_Day).dt.days\n",
    "df.Waiting_Days"
   ]
  },
  {
   "cell_type": "code",
   "execution_count": 118,
   "metadata": {},
   "outputs": [
    {
     "data": {
      "text/html": [
       "<div>\n",
       "<style scoped>\n",
       "    .dataframe tbody tr th:only-of-type {\n",
       "        vertical-align: middle;\n",
       "    }\n",
       "\n",
       "    .dataframe tbody tr th {\n",
       "        vertical-align: top;\n",
       "    }\n",
       "\n",
       "    .dataframe thead th {\n",
       "        text-align: right;\n",
       "    }\n",
       "</style>\n",
       "<table border=\"1\" class=\"dataframe\">\n",
       "  <thead>\n",
       "    <tr style=\"text-align: right;\">\n",
       "      <th></th>\n",
       "      <th>Patient_Id</th>\n",
       "      <th>Appointment_ID</th>\n",
       "      <th>Gender</th>\n",
       "      <th>Scheduled_Day</th>\n",
       "      <th>Appointment_Day</th>\n",
       "      <th>Age</th>\n",
       "      <th>Neighbourhood</th>\n",
       "      <th>Scholarship</th>\n",
       "      <th>Hipertension</th>\n",
       "      <th>Diabetes</th>\n",
       "      <th>Alcoholism</th>\n",
       "      <th>Handcap</th>\n",
       "      <th>SMS_received</th>\n",
       "      <th>No_Show</th>\n",
       "      <th>Waiting_Days</th>\n",
       "    </tr>\n",
       "  </thead>\n",
       "  <tbody>\n",
       "    <tr>\n",
       "      <th>0</th>\n",
       "      <td>29872499824296</td>\n",
       "      <td>5642903</td>\n",
       "      <td>F</td>\n",
       "      <td>2016-04-29 18:38:08</td>\n",
       "      <td>2016-04-29</td>\n",
       "      <td>62</td>\n",
       "      <td>JARDIM DA PENHA</td>\n",
       "      <td>0</td>\n",
       "      <td>1</td>\n",
       "      <td>0</td>\n",
       "      <td>0</td>\n",
       "      <td>0</td>\n",
       "      <td>0</td>\n",
       "      <td>No</td>\n",
       "      <td>-1</td>\n",
       "    </tr>\n",
       "    <tr>\n",
       "      <th>1</th>\n",
       "      <td>558997776694438</td>\n",
       "      <td>5642503</td>\n",
       "      <td>M</td>\n",
       "      <td>2016-04-29 16:08:27</td>\n",
       "      <td>2016-04-29</td>\n",
       "      <td>56</td>\n",
       "      <td>JARDIM DA PENHA</td>\n",
       "      <td>0</td>\n",
       "      <td>0</td>\n",
       "      <td>0</td>\n",
       "      <td>0</td>\n",
       "      <td>0</td>\n",
       "      <td>0</td>\n",
       "      <td>No</td>\n",
       "      <td>-1</td>\n",
       "    </tr>\n",
       "  </tbody>\n",
       "</table>\n",
       "</div>"
      ],
      "text/plain": [
       "        Patient_Id  Appointment_ID Gender       Scheduled_Day Appointment_Day  \\\n",
       "0   29872499824296         5642903      F 2016-04-29 18:38:08      2016-04-29   \n",
       "1  558997776694438         5642503      M 2016-04-29 16:08:27      2016-04-29   \n",
       "\n",
       "   Age    Neighbourhood  Scholarship  Hipertension  Diabetes  Alcoholism  \\\n",
       "0   62  JARDIM DA PENHA            0             1         0           0   \n",
       "1   56  JARDIM DA PENHA            0             0         0           0   \n",
       "\n",
       "   Handcap  SMS_received No_Show  Waiting_Days  \n",
       "0        0             0      No            -1  \n",
       "1        0             0      No            -1  "
      ]
     },
     "execution_count": 118,
     "metadata": {},
     "output_type": "execute_result"
    }
   ],
   "source": [
    "df.head(2)"
   ]
  },
  {
   "cell_type": "markdown",
   "metadata": {},
   "source": [
    "Since the time in the Appointment_Day column doesn't show, for those appointments that took time on the same day as they weere scheduled, it shows -1 days of waiting. Therefore, we must replace the -1 with 0 days of waiting.\n"
   ]
  },
  {
   "cell_type": "code",
   "execution_count": 119,
   "metadata": {
    "scrolled": true
   },
   "outputs": [
    {
     "data": {
      "text/html": [
       "<div>\n",
       "<style scoped>\n",
       "    .dataframe tbody tr th:only-of-type {\n",
       "        vertical-align: middle;\n",
       "    }\n",
       "\n",
       "    .dataframe tbody tr th {\n",
       "        vertical-align: top;\n",
       "    }\n",
       "\n",
       "    .dataframe thead th {\n",
       "        text-align: right;\n",
       "    }\n",
       "</style>\n",
       "<table border=\"1\" class=\"dataframe\">\n",
       "  <thead>\n",
       "    <tr style=\"text-align: right;\">\n",
       "      <th></th>\n",
       "      <th>Patient_Id</th>\n",
       "      <th>Appointment_ID</th>\n",
       "      <th>Gender</th>\n",
       "      <th>Scheduled_Day</th>\n",
       "      <th>Appointment_Day</th>\n",
       "      <th>Age</th>\n",
       "      <th>Neighbourhood</th>\n",
       "      <th>Scholarship</th>\n",
       "      <th>Hipertension</th>\n",
       "      <th>Diabetes</th>\n",
       "      <th>Alcoholism</th>\n",
       "      <th>Handcap</th>\n",
       "      <th>SMS_received</th>\n",
       "      <th>No_Show</th>\n",
       "      <th>Waiting_Days</th>\n",
       "    </tr>\n",
       "  </thead>\n",
       "  <tbody>\n",
       "    <tr>\n",
       "      <th>0</th>\n",
       "      <td>29872499824296</td>\n",
       "      <td>5642903</td>\n",
       "      <td>F</td>\n",
       "      <td>2016-04-29 18:38:08</td>\n",
       "      <td>2016-04-29</td>\n",
       "      <td>62</td>\n",
       "      <td>JARDIM DA PENHA</td>\n",
       "      <td>0</td>\n",
       "      <td>1</td>\n",
       "      <td>0</td>\n",
       "      <td>0</td>\n",
       "      <td>0</td>\n",
       "      <td>0</td>\n",
       "      <td>No</td>\n",
       "      <td>0</td>\n",
       "    </tr>\n",
       "    <tr>\n",
       "      <th>1</th>\n",
       "      <td>558997776694438</td>\n",
       "      <td>5642503</td>\n",
       "      <td>M</td>\n",
       "      <td>2016-04-29 16:08:27</td>\n",
       "      <td>2016-04-29</td>\n",
       "      <td>56</td>\n",
       "      <td>JARDIM DA PENHA</td>\n",
       "      <td>0</td>\n",
       "      <td>0</td>\n",
       "      <td>0</td>\n",
       "      <td>0</td>\n",
       "      <td>0</td>\n",
       "      <td>0</td>\n",
       "      <td>No</td>\n",
       "      <td>0</td>\n",
       "    </tr>\n",
       "  </tbody>\n",
       "</table>\n",
       "</div>"
      ],
      "text/plain": [
       "        Patient_Id  Appointment_ID Gender       Scheduled_Day Appointment_Day  \\\n",
       "0   29872499824296         5642903      F 2016-04-29 18:38:08      2016-04-29   \n",
       "1  558997776694438         5642503      M 2016-04-29 16:08:27      2016-04-29   \n",
       "\n",
       "   Age    Neighbourhood  Scholarship  Hipertension  Diabetes  Alcoholism  \\\n",
       "0   62  JARDIM DA PENHA            0             1         0           0   \n",
       "1   56  JARDIM DA PENHA            0             0         0           0   \n",
       "\n",
       "   Handcap  SMS_received No_Show  Waiting_Days  \n",
       "0        0             0      No             0  \n",
       "1        0             0      No             0  "
      ]
     },
     "execution_count": 119,
     "metadata": {},
     "output_type": "execute_result"
    }
   ],
   "source": [
    "df.Waiting_Days.replace(-1,0,inplace=True)\n",
    "df.head(2)"
   ]
  },
  {
   "cell_type": "markdown",
   "metadata": {},
   "source": [
    "- It will also be useful to show the weekday in which the appointment takes place, so let's create a new column for it:"
   ]
  },
  {
   "cell_type": "code",
   "execution_count": 120,
   "metadata": {},
   "outputs": [
    {
     "data": {
      "text/plain": [
       "Appointment_Weekday  No_Show\n",
       "Friday               No         14982\n",
       "                     Yes         4037\n",
       "Monday               No         18025\n",
       "                     Yes         4690\n",
       "Saturday             No            30\n",
       "                     Yes            9\n",
       "Thursday             No         13909\n",
       "                     Yes         3338\n",
       "Tuesday              No         20488\n",
       "                     Yes         5152\n",
       "Wednesday            No         20774\n",
       "                     Yes         5093\n",
       "Name: No_Show, dtype: int64"
      ]
     },
     "execution_count": 120,
     "metadata": {},
     "output_type": "execute_result"
    }
   ],
   "source": [
    "# Create the new column Appointment_weekday\n",
    "df['Appointment_Weekday'] = (df.Appointment_Day).dt.weekday_name\n",
    "\n",
    "#Check shows up and no shows up per weekday\n",
    "df.groupby('Appointment_Weekday')['No_Show'].value_counts()"
   ]
  },
  {
   "cell_type": "markdown",
   "metadata": {},
   "source": [
    "\n",
    "\n",
    "**Step 3:** Check if there are any duplicated rows:"
   ]
  },
  {
   "cell_type": "code",
   "execution_count": 121,
   "metadata": {},
   "outputs": [
    {
     "data": {
      "text/plain": [
       "0"
      ]
     },
     "execution_count": 121,
     "metadata": {},
     "output_type": "execute_result"
    }
   ],
   "source": [
    "sum(df.duplicated())"
   ]
  },
  {
   "cell_type": "markdown",
   "metadata": {},
   "source": [
    "- There are **no duplicated rows.**"
   ]
  },
  {
   "cell_type": "markdown",
   "metadata": {},
   "source": [
    "**Step 4:** Let's get some statistical data for each column:"
   ]
  },
  {
   "cell_type": "code",
   "execution_count": 122,
   "metadata": {
    "scrolled": true
   },
   "outputs": [
    {
     "data": {
      "text/html": [
       "<div>\n",
       "<style scoped>\n",
       "    .dataframe tbody tr th:only-of-type {\n",
       "        vertical-align: middle;\n",
       "    }\n",
       "\n",
       "    .dataframe tbody tr th {\n",
       "        vertical-align: top;\n",
       "    }\n",
       "\n",
       "    .dataframe thead th {\n",
       "        text-align: right;\n",
       "    }\n",
       "</style>\n",
       "<table border=\"1\" class=\"dataframe\">\n",
       "  <thead>\n",
       "    <tr style=\"text-align: right;\">\n",
       "      <th></th>\n",
       "      <th>Patient_Id</th>\n",
       "      <th>Appointment_ID</th>\n",
       "      <th>Age</th>\n",
       "      <th>Scholarship</th>\n",
       "      <th>Hipertension</th>\n",
       "      <th>Diabetes</th>\n",
       "      <th>Alcoholism</th>\n",
       "      <th>Handcap</th>\n",
       "      <th>SMS_received</th>\n",
       "      <th>Waiting_Days</th>\n",
       "    </tr>\n",
       "  </thead>\n",
       "  <tbody>\n",
       "    <tr>\n",
       "      <th>count</th>\n",
       "      <td>1.105270e+05</td>\n",
       "      <td>1.105270e+05</td>\n",
       "      <td>110527.000000</td>\n",
       "      <td>110527.000000</td>\n",
       "      <td>110527.000000</td>\n",
       "      <td>110527.000000</td>\n",
       "      <td>110527.000000</td>\n",
       "      <td>110527.000000</td>\n",
       "      <td>110527.000000</td>\n",
       "      <td>110527.000000</td>\n",
       "    </tr>\n",
       "    <tr>\n",
       "      <th>mean</th>\n",
       "      <td>1.474963e+14</td>\n",
       "      <td>5.675305e+06</td>\n",
       "      <td>37.088874</td>\n",
       "      <td>0.098266</td>\n",
       "      <td>0.197246</td>\n",
       "      <td>0.071865</td>\n",
       "      <td>0.030400</td>\n",
       "      <td>0.022248</td>\n",
       "      <td>0.321026</td>\n",
       "      <td>9.532603</td>\n",
       "    </tr>\n",
       "    <tr>\n",
       "      <th>std</th>\n",
       "      <td>2.560949e+14</td>\n",
       "      <td>7.129575e+04</td>\n",
       "      <td>23.110205</td>\n",
       "      <td>0.297675</td>\n",
       "      <td>0.397921</td>\n",
       "      <td>0.258265</td>\n",
       "      <td>0.171686</td>\n",
       "      <td>0.161543</td>\n",
       "      <td>0.466873</td>\n",
       "      <td>15.027834</td>\n",
       "    </tr>\n",
       "    <tr>\n",
       "      <th>min</th>\n",
       "      <td>3.921700e+04</td>\n",
       "      <td>5.030230e+06</td>\n",
       "      <td>-1.000000</td>\n",
       "      <td>0.000000</td>\n",
       "      <td>0.000000</td>\n",
       "      <td>0.000000</td>\n",
       "      <td>0.000000</td>\n",
       "      <td>0.000000</td>\n",
       "      <td>0.000000</td>\n",
       "      <td>-7.000000</td>\n",
       "    </tr>\n",
       "    <tr>\n",
       "      <th>25%</th>\n",
       "      <td>4.172614e+12</td>\n",
       "      <td>5.640286e+06</td>\n",
       "      <td>18.000000</td>\n",
       "      <td>0.000000</td>\n",
       "      <td>0.000000</td>\n",
       "      <td>0.000000</td>\n",
       "      <td>0.000000</td>\n",
       "      <td>0.000000</td>\n",
       "      <td>0.000000</td>\n",
       "      <td>0.000000</td>\n",
       "    </tr>\n",
       "    <tr>\n",
       "      <th>50%</th>\n",
       "      <td>3.173184e+13</td>\n",
       "      <td>5.680573e+06</td>\n",
       "      <td>37.000000</td>\n",
       "      <td>0.000000</td>\n",
       "      <td>0.000000</td>\n",
       "      <td>0.000000</td>\n",
       "      <td>0.000000</td>\n",
       "      <td>0.000000</td>\n",
       "      <td>0.000000</td>\n",
       "      <td>3.000000</td>\n",
       "    </tr>\n",
       "    <tr>\n",
       "      <th>75%</th>\n",
       "      <td>9.439172e+13</td>\n",
       "      <td>5.725524e+06</td>\n",
       "      <td>55.000000</td>\n",
       "      <td>0.000000</td>\n",
       "      <td>0.000000</td>\n",
       "      <td>0.000000</td>\n",
       "      <td>0.000000</td>\n",
       "      <td>0.000000</td>\n",
       "      <td>1.000000</td>\n",
       "      <td>14.000000</td>\n",
       "    </tr>\n",
       "    <tr>\n",
       "      <th>max</th>\n",
       "      <td>9.999816e+14</td>\n",
       "      <td>5.790484e+06</td>\n",
       "      <td>115.000000</td>\n",
       "      <td>1.000000</td>\n",
       "      <td>1.000000</td>\n",
       "      <td>1.000000</td>\n",
       "      <td>1.000000</td>\n",
       "      <td>4.000000</td>\n",
       "      <td>1.000000</td>\n",
       "      <td>178.000000</td>\n",
       "    </tr>\n",
       "  </tbody>\n",
       "</table>\n",
       "</div>"
      ],
      "text/plain": [
       "         Patient_Id  Appointment_ID            Age    Scholarship  \\\n",
       "count  1.105270e+05    1.105270e+05  110527.000000  110527.000000   \n",
       "mean   1.474963e+14    5.675305e+06      37.088874       0.098266   \n",
       "std    2.560949e+14    7.129575e+04      23.110205       0.297675   \n",
       "min    3.921700e+04    5.030230e+06      -1.000000       0.000000   \n",
       "25%    4.172614e+12    5.640286e+06      18.000000       0.000000   \n",
       "50%    3.173184e+13    5.680573e+06      37.000000       0.000000   \n",
       "75%    9.439172e+13    5.725524e+06      55.000000       0.000000   \n",
       "max    9.999816e+14    5.790484e+06     115.000000       1.000000   \n",
       "\n",
       "        Hipertension       Diabetes     Alcoholism        Handcap  \\\n",
       "count  110527.000000  110527.000000  110527.000000  110527.000000   \n",
       "mean        0.197246       0.071865       0.030400       0.022248   \n",
       "std         0.397921       0.258265       0.171686       0.161543   \n",
       "min         0.000000       0.000000       0.000000       0.000000   \n",
       "25%         0.000000       0.000000       0.000000       0.000000   \n",
       "50%         0.000000       0.000000       0.000000       0.000000   \n",
       "75%         0.000000       0.000000       0.000000       0.000000   \n",
       "max         1.000000       1.000000       1.000000       4.000000   \n",
       "\n",
       "        SMS_received   Waiting_Days  \n",
       "count  110527.000000  110527.000000  \n",
       "mean        0.321026       9.532603  \n",
       "std         0.466873      15.027834  \n",
       "min         0.000000      -7.000000  \n",
       "25%         0.000000       0.000000  \n",
       "50%         0.000000       3.000000  \n",
       "75%         1.000000      14.000000  \n",
       "max         1.000000     178.000000  "
      ]
     },
     "execution_count": 122,
     "metadata": {},
     "output_type": "execute_result"
    }
   ],
   "source": [
    "df.describe()"
   ]
  },
  {
   "cell_type": "markdown",
   "metadata": {},
   "source": [
    "- The average patients age is 37 years old\n",
    "- 75% of the patients received an SMS\n",
    "- The average of waiting days for the appointment can be rounded to 10 days (75% of the patients waited 14 days for the Appointment and 50% waited up to 3 days). \n",
    "- We can already see **some errors in the data**:\n",
    "> 1. **The minimum age is -1**, therefore we will have to get rid of this row or change replace it by the mean age which we can see is 37 years. But before we do that, lets take a look at that particular patient:\n",
    "> 2. The are still **negative waiting days**, as this is impossible, we will have to fix this ploblem\n"
   ]
  },
  {
   "cell_type": "markdown",
   "metadata": {},
   "source": [
    "**Fix the errors:**\n",
    "\n",
    "1. Age = -1:"
   ]
  },
  {
   "cell_type": "code",
   "execution_count": 123,
   "metadata": {},
   "outputs": [
    {
     "data": {
      "text/html": [
       "<div>\n",
       "<style scoped>\n",
       "    .dataframe tbody tr th:only-of-type {\n",
       "        vertical-align: middle;\n",
       "    }\n",
       "\n",
       "    .dataframe tbody tr th {\n",
       "        vertical-align: top;\n",
       "    }\n",
       "\n",
       "    .dataframe thead th {\n",
       "        text-align: right;\n",
       "    }\n",
       "</style>\n",
       "<table border=\"1\" class=\"dataframe\">\n",
       "  <thead>\n",
       "    <tr style=\"text-align: right;\">\n",
       "      <th></th>\n",
       "      <th>Patient_Id</th>\n",
       "      <th>Appointment_ID</th>\n",
       "      <th>Gender</th>\n",
       "      <th>Scheduled_Day</th>\n",
       "      <th>Appointment_Day</th>\n",
       "      <th>Age</th>\n",
       "      <th>Neighbourhood</th>\n",
       "      <th>Scholarship</th>\n",
       "      <th>Hipertension</th>\n",
       "      <th>Diabetes</th>\n",
       "      <th>Alcoholism</th>\n",
       "      <th>Handcap</th>\n",
       "      <th>SMS_received</th>\n",
       "      <th>No_Show</th>\n",
       "      <th>Waiting_Days</th>\n",
       "      <th>Appointment_Weekday</th>\n",
       "    </tr>\n",
       "  </thead>\n",
       "  <tbody>\n",
       "    <tr>\n",
       "      <th>99832</th>\n",
       "      <td>465943158731293</td>\n",
       "      <td>5775010</td>\n",
       "      <td>F</td>\n",
       "      <td>2016-06-06 08:58:13</td>\n",
       "      <td>2016-06-06</td>\n",
       "      <td>-1</td>\n",
       "      <td>ROMÃO</td>\n",
       "      <td>0</td>\n",
       "      <td>0</td>\n",
       "      <td>0</td>\n",
       "      <td>0</td>\n",
       "      <td>0</td>\n",
       "      <td>0</td>\n",
       "      <td>No</td>\n",
       "      <td>0</td>\n",
       "      <td>Monday</td>\n",
       "    </tr>\n",
       "  </tbody>\n",
       "</table>\n",
       "</div>"
      ],
      "text/plain": [
       "            Patient_Id  Appointment_ID Gender       Scheduled_Day  \\\n",
       "99832  465943158731293         5775010      F 2016-06-06 08:58:13   \n",
       "\n",
       "      Appointment_Day  Age Neighbourhood  Scholarship  Hipertension  Diabetes  \\\n",
       "99832      2016-06-06   -1         ROMÃO            0             0         0   \n",
       "\n",
       "       Alcoholism  Handcap  SMS_received No_Show  Waiting_Days  \\\n",
       "99832           0        0             0      No             0   \n",
       "\n",
       "      Appointment_Weekday  \n",
       "99832              Monday  "
      ]
     },
     "execution_count": 123,
     "metadata": {},
     "output_type": "execute_result"
    }
   ],
   "source": [
    "df.query('Age == \"-1\"')"
   ]
  },
  {
   "cell_type": "markdown",
   "metadata": {},
   "source": [
    "As no particular characteristic gives you any hint on how old the patient could be, **let's drop that row** and make sure there aren't any more errors on the age:"
   ]
  },
  {
   "cell_type": "code",
   "execution_count": 124,
   "metadata": {},
   "outputs": [],
   "source": [
    "# drop the row with Age = -1\n",
    "df.drop(df[df['Age'] == -1].index, inplace =True)"
   ]
  },
  {
   "cell_type": "code",
   "execution_count": 125,
   "metadata": {},
   "outputs": [
    {
     "data": {
      "text/html": [
       "<div>\n",
       "<style scoped>\n",
       "    .dataframe tbody tr th:only-of-type {\n",
       "        vertical-align: middle;\n",
       "    }\n",
       "\n",
       "    .dataframe tbody tr th {\n",
       "        vertical-align: top;\n",
       "    }\n",
       "\n",
       "    .dataframe thead th {\n",
       "        text-align: right;\n",
       "    }\n",
       "</style>\n",
       "<table border=\"1\" class=\"dataframe\">\n",
       "  <thead>\n",
       "    <tr style=\"text-align: right;\">\n",
       "      <th></th>\n",
       "      <th>Patient_Id</th>\n",
       "      <th>Appointment_ID</th>\n",
       "      <th>Gender</th>\n",
       "      <th>Scheduled_Day</th>\n",
       "      <th>Appointment_Day</th>\n",
       "      <th>Age</th>\n",
       "      <th>Neighbourhood</th>\n",
       "      <th>Scholarship</th>\n",
       "      <th>Hipertension</th>\n",
       "      <th>Diabetes</th>\n",
       "      <th>Alcoholism</th>\n",
       "      <th>Handcap</th>\n",
       "      <th>SMS_received</th>\n",
       "      <th>No_Show</th>\n",
       "      <th>Waiting_Days</th>\n",
       "      <th>Appointment_Weekday</th>\n",
       "    </tr>\n",
       "  </thead>\n",
       "  <tbody>\n",
       "  </tbody>\n",
       "</table>\n",
       "</div>"
      ],
      "text/plain": [
       "Empty DataFrame\n",
       "Columns: [Patient_Id, Appointment_ID, Gender, Scheduled_Day, Appointment_Day, Age, Neighbourhood, Scholarship, Hipertension, Diabetes, Alcoholism, Handcap, SMS_received, No_Show, Waiting_Days, Appointment_Weekday]\n",
       "Index: []"
      ]
     },
     "execution_count": 125,
     "metadata": {},
     "output_type": "execute_result"
    }
   ],
   "source": [
    "# Check if there are more Ages with error values\n",
    "df.query('Age < 0')"
   ]
  },
  {
   "cell_type": "markdown",
   "metadata": {},
   "source": [
    "- There are no more rows with invalid age values."
   ]
  },
  {
   "cell_type": "markdown",
   "metadata": {},
   "source": [
    "2. Negative waiting days:"
   ]
  },
  {
   "cell_type": "code",
   "execution_count": 126,
   "metadata": {},
   "outputs": [
    {
     "data": {
      "text/html": [
       "<div>\n",
       "<style scoped>\n",
       "    .dataframe tbody tr th:only-of-type {\n",
       "        vertical-align: middle;\n",
       "    }\n",
       "\n",
       "    .dataframe tbody tr th {\n",
       "        vertical-align: top;\n",
       "    }\n",
       "\n",
       "    .dataframe thead th {\n",
       "        text-align: right;\n",
       "    }\n",
       "</style>\n",
       "<table border=\"1\" class=\"dataframe\">\n",
       "  <thead>\n",
       "    <tr style=\"text-align: right;\">\n",
       "      <th></th>\n",
       "      <th>Patient_Id</th>\n",
       "      <th>Appointment_ID</th>\n",
       "      <th>Gender</th>\n",
       "      <th>Scheduled_Day</th>\n",
       "      <th>Appointment_Day</th>\n",
       "      <th>Age</th>\n",
       "      <th>Neighbourhood</th>\n",
       "      <th>Scholarship</th>\n",
       "      <th>Hipertension</th>\n",
       "      <th>Diabetes</th>\n",
       "      <th>Alcoholism</th>\n",
       "      <th>Handcap</th>\n",
       "      <th>SMS_received</th>\n",
       "      <th>No_Show</th>\n",
       "      <th>Waiting_Days</th>\n",
       "      <th>Appointment_Weekday</th>\n",
       "    </tr>\n",
       "  </thead>\n",
       "  <tbody>\n",
       "    <tr>\n",
       "      <th>27033</th>\n",
       "      <td>7839272661752</td>\n",
       "      <td>5679978</td>\n",
       "      <td>M</td>\n",
       "      <td>2016-05-10 10:51:53</td>\n",
       "      <td>2016-05-09</td>\n",
       "      <td>38</td>\n",
       "      <td>RESISTÊNCIA</td>\n",
       "      <td>0</td>\n",
       "      <td>0</td>\n",
       "      <td>0</td>\n",
       "      <td>0</td>\n",
       "      <td>1</td>\n",
       "      <td>0</td>\n",
       "      <td>Yes</td>\n",
       "      <td>-2</td>\n",
       "      <td>Monday</td>\n",
       "    </tr>\n",
       "    <tr>\n",
       "      <th>55226</th>\n",
       "      <td>7896293967868</td>\n",
       "      <td>5715660</td>\n",
       "      <td>F</td>\n",
       "      <td>2016-05-18 14:50:41</td>\n",
       "      <td>2016-05-17</td>\n",
       "      <td>19</td>\n",
       "      <td>SANTO ANTÔNIO</td>\n",
       "      <td>0</td>\n",
       "      <td>0</td>\n",
       "      <td>0</td>\n",
       "      <td>0</td>\n",
       "      <td>1</td>\n",
       "      <td>0</td>\n",
       "      <td>Yes</td>\n",
       "      <td>-2</td>\n",
       "      <td>Tuesday</td>\n",
       "    </tr>\n",
       "    <tr>\n",
       "      <th>64175</th>\n",
       "      <td>24252258389979</td>\n",
       "      <td>5664962</td>\n",
       "      <td>F</td>\n",
       "      <td>2016-05-05 13:43:58</td>\n",
       "      <td>2016-05-04</td>\n",
       "      <td>22</td>\n",
       "      <td>CONSOLAÇÃO</td>\n",
       "      <td>0</td>\n",
       "      <td>0</td>\n",
       "      <td>0</td>\n",
       "      <td>0</td>\n",
       "      <td>0</td>\n",
       "      <td>0</td>\n",
       "      <td>Yes</td>\n",
       "      <td>-2</td>\n",
       "      <td>Wednesday</td>\n",
       "    </tr>\n",
       "    <tr>\n",
       "      <th>71533</th>\n",
       "      <td>998231581612122</td>\n",
       "      <td>5686628</td>\n",
       "      <td>F</td>\n",
       "      <td>2016-05-11 13:49:20</td>\n",
       "      <td>2016-05-05</td>\n",
       "      <td>81</td>\n",
       "      <td>SANTO ANTÔNIO</td>\n",
       "      <td>0</td>\n",
       "      <td>0</td>\n",
       "      <td>0</td>\n",
       "      <td>0</td>\n",
       "      <td>0</td>\n",
       "      <td>0</td>\n",
       "      <td>Yes</td>\n",
       "      <td>-7</td>\n",
       "      <td>Thursday</td>\n",
       "    </tr>\n",
       "    <tr>\n",
       "      <th>72362</th>\n",
       "      <td>3787481966821</td>\n",
       "      <td>5655637</td>\n",
       "      <td>M</td>\n",
       "      <td>2016-05-04 06:50:57</td>\n",
       "      <td>2016-05-03</td>\n",
       "      <td>7</td>\n",
       "      <td>TABUAZEIRO</td>\n",
       "      <td>0</td>\n",
       "      <td>0</td>\n",
       "      <td>0</td>\n",
       "      <td>0</td>\n",
       "      <td>0</td>\n",
       "      <td>0</td>\n",
       "      <td>Yes</td>\n",
       "      <td>-2</td>\n",
       "      <td>Tuesday</td>\n",
       "    </tr>\n",
       "  </tbody>\n",
       "</table>\n",
       "</div>"
      ],
      "text/plain": [
       "            Patient_Id  Appointment_ID Gender       Scheduled_Day  \\\n",
       "27033    7839272661752         5679978      M 2016-05-10 10:51:53   \n",
       "55226    7896293967868         5715660      F 2016-05-18 14:50:41   \n",
       "64175   24252258389979         5664962      F 2016-05-05 13:43:58   \n",
       "71533  998231581612122         5686628      F 2016-05-11 13:49:20   \n",
       "72362    3787481966821         5655637      M 2016-05-04 06:50:57   \n",
       "\n",
       "      Appointment_Day  Age  Neighbourhood  Scholarship  Hipertension  \\\n",
       "27033      2016-05-09   38    RESISTÊNCIA            0             0   \n",
       "55226      2016-05-17   19  SANTO ANTÔNIO            0             0   \n",
       "64175      2016-05-04   22     CONSOLAÇÃO            0             0   \n",
       "71533      2016-05-05   81  SANTO ANTÔNIO            0             0   \n",
       "72362      2016-05-03    7     TABUAZEIRO            0             0   \n",
       "\n",
       "       Diabetes  Alcoholism  Handcap  SMS_received No_Show  Waiting_Days  \\\n",
       "27033         0           0        1             0     Yes            -2   \n",
       "55226         0           0        1             0     Yes            -2   \n",
       "64175         0           0        0             0     Yes            -2   \n",
       "71533         0           0        0             0     Yes            -7   \n",
       "72362         0           0        0             0     Yes            -2   \n",
       "\n",
       "      Appointment_Weekday  \n",
       "27033              Monday  \n",
       "55226             Tuesday  \n",
       "64175           Wednesday  \n",
       "71533            Thursday  \n",
       "72362             Tuesday  "
      ]
     },
     "execution_count": 126,
     "metadata": {},
     "output_type": "execute_result"
    }
   ],
   "source": [
    "# Check the data related to negative waiting days:\n",
    "\n",
    "neg_waiting_days = df.query('Waiting_Days < 0')\n",
    "neg_waiting_days"
   ]
  },
  {
   "cell_type": "code",
   "execution_count": 127,
   "metadata": {},
   "outputs": [
    {
     "data": {
      "text/html": [
       "<div>\n",
       "<style scoped>\n",
       "    .dataframe tbody tr th:only-of-type {\n",
       "        vertical-align: middle;\n",
       "    }\n",
       "\n",
       "    .dataframe tbody tr th {\n",
       "        vertical-align: top;\n",
       "    }\n",
       "\n",
       "    .dataframe thead th {\n",
       "        text-align: right;\n",
       "    }\n",
       "</style>\n",
       "<table border=\"1\" class=\"dataframe\">\n",
       "  <thead>\n",
       "    <tr style=\"text-align: right;\">\n",
       "      <th></th>\n",
       "      <th>Patient_Id</th>\n",
       "      <th>Appointment_ID</th>\n",
       "      <th>Age</th>\n",
       "      <th>Scholarship</th>\n",
       "      <th>Hipertension</th>\n",
       "      <th>Diabetes</th>\n",
       "      <th>Alcoholism</th>\n",
       "      <th>Handcap</th>\n",
       "      <th>SMS_received</th>\n",
       "      <th>Waiting_Days</th>\n",
       "    </tr>\n",
       "  </thead>\n",
       "  <tbody>\n",
       "    <tr>\n",
       "      <th>count</th>\n",
       "      <td>5.000000e+00</td>\n",
       "      <td>5.000000e+00</td>\n",
       "      <td>5.000000</td>\n",
       "      <td>5.0</td>\n",
       "      <td>5.0</td>\n",
       "      <td>5.0</td>\n",
       "      <td>5.0</td>\n",
       "      <td>5.000000</td>\n",
       "      <td>5.0</td>\n",
       "      <td>5.000000</td>\n",
       "    </tr>\n",
       "    <tr>\n",
       "      <th>mean</th>\n",
       "      <td>2.084014e+14</td>\n",
       "      <td>5.680573e+06</td>\n",
       "      <td>33.400000</td>\n",
       "      <td>0.0</td>\n",
       "      <td>0.0</td>\n",
       "      <td>0.0</td>\n",
       "      <td>0.0</td>\n",
       "      <td>0.400000</td>\n",
       "      <td>0.0</td>\n",
       "      <td>-3.000000</td>\n",
       "    </tr>\n",
       "    <tr>\n",
       "      <th>std</th>\n",
       "      <td>4.415985e+14</td>\n",
       "      <td>2.309557e+04</td>\n",
       "      <td>28.814927</td>\n",
       "      <td>0.0</td>\n",
       "      <td>0.0</td>\n",
       "      <td>0.0</td>\n",
       "      <td>0.0</td>\n",
       "      <td>0.547723</td>\n",
       "      <td>0.0</td>\n",
       "      <td>2.236068</td>\n",
       "    </tr>\n",
       "    <tr>\n",
       "      <th>min</th>\n",
       "      <td>3.787482e+12</td>\n",
       "      <td>5.655637e+06</td>\n",
       "      <td>7.000000</td>\n",
       "      <td>0.0</td>\n",
       "      <td>0.0</td>\n",
       "      <td>0.0</td>\n",
       "      <td>0.0</td>\n",
       "      <td>0.000000</td>\n",
       "      <td>0.0</td>\n",
       "      <td>-7.000000</td>\n",
       "    </tr>\n",
       "    <tr>\n",
       "      <th>25%</th>\n",
       "      <td>7.839273e+12</td>\n",
       "      <td>5.664962e+06</td>\n",
       "      <td>19.000000</td>\n",
       "      <td>0.0</td>\n",
       "      <td>0.0</td>\n",
       "      <td>0.0</td>\n",
       "      <td>0.0</td>\n",
       "      <td>0.000000</td>\n",
       "      <td>0.0</td>\n",
       "      <td>-2.000000</td>\n",
       "    </tr>\n",
       "    <tr>\n",
       "      <th>50%</th>\n",
       "      <td>7.896294e+12</td>\n",
       "      <td>5.679978e+06</td>\n",
       "      <td>22.000000</td>\n",
       "      <td>0.0</td>\n",
       "      <td>0.0</td>\n",
       "      <td>0.0</td>\n",
       "      <td>0.0</td>\n",
       "      <td>0.000000</td>\n",
       "      <td>0.0</td>\n",
       "      <td>-2.000000</td>\n",
       "    </tr>\n",
       "    <tr>\n",
       "      <th>75%</th>\n",
       "      <td>2.425226e+13</td>\n",
       "      <td>5.686628e+06</td>\n",
       "      <td>38.000000</td>\n",
       "      <td>0.0</td>\n",
       "      <td>0.0</td>\n",
       "      <td>0.0</td>\n",
       "      <td>0.0</td>\n",
       "      <td>1.000000</td>\n",
       "      <td>0.0</td>\n",
       "      <td>-2.000000</td>\n",
       "    </tr>\n",
       "    <tr>\n",
       "      <th>max</th>\n",
       "      <td>9.982316e+14</td>\n",
       "      <td>5.715660e+06</td>\n",
       "      <td>81.000000</td>\n",
       "      <td>0.0</td>\n",
       "      <td>0.0</td>\n",
       "      <td>0.0</td>\n",
       "      <td>0.0</td>\n",
       "      <td>1.000000</td>\n",
       "      <td>0.0</td>\n",
       "      <td>-2.000000</td>\n",
       "    </tr>\n",
       "  </tbody>\n",
       "</table>\n",
       "</div>"
      ],
      "text/plain": [
       "         Patient_Id  Appointment_ID        Age  Scholarship  Hipertension  \\\n",
       "count  5.000000e+00    5.000000e+00   5.000000          5.0           5.0   \n",
       "mean   2.084014e+14    5.680573e+06  33.400000          0.0           0.0   \n",
       "std    4.415985e+14    2.309557e+04  28.814927          0.0           0.0   \n",
       "min    3.787482e+12    5.655637e+06   7.000000          0.0           0.0   \n",
       "25%    7.839273e+12    5.664962e+06  19.000000          0.0           0.0   \n",
       "50%    7.896294e+12    5.679978e+06  22.000000          0.0           0.0   \n",
       "75%    2.425226e+13    5.686628e+06  38.000000          0.0           0.0   \n",
       "max    9.982316e+14    5.715660e+06  81.000000          0.0           0.0   \n",
       "\n",
       "       Diabetes  Alcoholism   Handcap  SMS_received  Waiting_Days  \n",
       "count       5.0         5.0  5.000000           5.0      5.000000  \n",
       "mean        0.0         0.0  0.400000           0.0     -3.000000  \n",
       "std         0.0         0.0  0.547723           0.0      2.236068  \n",
       "min         0.0         0.0  0.000000           0.0     -7.000000  \n",
       "25%         0.0         0.0  0.000000           0.0     -2.000000  \n",
       "50%         0.0         0.0  0.000000           0.0     -2.000000  \n",
       "75%         0.0         0.0  1.000000           0.0     -2.000000  \n",
       "max         0.0         0.0  1.000000           0.0     -2.000000  "
      ]
     },
     "execution_count": 127,
     "metadata": {},
     "output_type": "execute_result"
    }
   ],
   "source": [
    "neg_waiting_days.describe()"
   ]
  },
  {
   "cell_type": "markdown",
   "metadata": {},
   "source": [
    "All the errors (with a mean of -3 in the waiting days) happened on May 2016 and at different Neighbourhoods (except for 2 cases at the Santo Antonio Neighbourhood), 2 of the patients are handicapped and their average age is 33 years old.\n",
    "\n",
    "- As we cannot relate the error to any of this data, we will drop these rows, since they don't represent a high percentage (0.0045%) of the total data volume."
   ]
  },
  {
   "cell_type": "code",
   "execution_count": 128,
   "metadata": {},
   "outputs": [
    {
     "data": {
      "text/html": [
       "<div>\n",
       "<style scoped>\n",
       "    .dataframe tbody tr th:only-of-type {\n",
       "        vertical-align: middle;\n",
       "    }\n",
       "\n",
       "    .dataframe tbody tr th {\n",
       "        vertical-align: top;\n",
       "    }\n",
       "\n",
       "    .dataframe thead th {\n",
       "        text-align: right;\n",
       "    }\n",
       "</style>\n",
       "<table border=\"1\" class=\"dataframe\">\n",
       "  <thead>\n",
       "    <tr style=\"text-align: right;\">\n",
       "      <th></th>\n",
       "      <th>Patient_Id</th>\n",
       "      <th>Appointment_ID</th>\n",
       "      <th>Gender</th>\n",
       "      <th>Scheduled_Day</th>\n",
       "      <th>Appointment_Day</th>\n",
       "      <th>Age</th>\n",
       "      <th>Neighbourhood</th>\n",
       "      <th>Scholarship</th>\n",
       "      <th>Hipertension</th>\n",
       "      <th>Diabetes</th>\n",
       "      <th>Alcoholism</th>\n",
       "      <th>Handcap</th>\n",
       "      <th>SMS_received</th>\n",
       "      <th>No_Show</th>\n",
       "      <th>Waiting_Days</th>\n",
       "      <th>Appointment_Weekday</th>\n",
       "    </tr>\n",
       "  </thead>\n",
       "  <tbody>\n",
       "  </tbody>\n",
       "</table>\n",
       "</div>"
      ],
      "text/plain": [
       "Empty DataFrame\n",
       "Columns: [Patient_Id, Appointment_ID, Gender, Scheduled_Day, Appointment_Day, Age, Neighbourhood, Scholarship, Hipertension, Diabetes, Alcoholism, Handcap, SMS_received, No_Show, Waiting_Days, Appointment_Weekday]\n",
       "Index: []"
      ]
     },
     "execution_count": 128,
     "metadata": {},
     "output_type": "execute_result"
    }
   ],
   "source": [
    "# drop the rows with negative waiting days:\n",
    "df.drop(df[df['Waiting_Days'] < 0].index, inplace =True)\n",
    "\n",
    "# Check they are dropped\n",
    "df.query('Waiting_Days < 0')"
   ]
  },
  {
   "cell_type": "markdown",
   "metadata": {},
   "source": [
    "**Step 5:** Check if there are several rows for the same patient and appointment:"
   ]
  },
  {
   "cell_type": "code",
   "execution_count": 129,
   "metadata": {
    "scrolled": true
   },
   "outputs": [
    {
     "data": {
      "text/plain": [
       "(48223, 0)"
      ]
     },
     "execution_count": 129,
     "metadata": {},
     "output_type": "execute_result"
    }
   ],
   "source": [
    "sum(df.Patient_Id.duplicated()), sum(df.Appointment_ID.duplicated())"
   ]
  },
  {
   "cell_type": "markdown",
   "metadata": {},
   "source": [
    "- There are no dupplicated Appointment_ID values (which would be an error)\n",
    "- There are 48228 patients for whom we have data from different appointments, so let's check these out:"
   ]
  },
  {
   "cell_type": "code",
   "execution_count": 130,
   "metadata": {
    "scrolled": true
   },
   "outputs": [],
   "source": [
    "#Create a table for all the duplicated patients\n",
    "duplc_patients=df[df.Patient_Id.duplicated()==True]"
   ]
  },
  {
   "cell_type": "code",
   "execution_count": 131,
   "metadata": {},
   "outputs": [
    {
     "name": "stdout",
     "output_type": "stream",
     "text": [
      "Top 10 patients who scheduled appointments more than once:\n",
      "\n",
      "822145925426128    87\n",
      "99637671331        83\n",
      "26886125921145     69\n",
      "33534783483176     64\n",
      "75797461494159     61\n",
      "6264198675331      61\n",
      "258424392677       61\n",
      "871374938638855    61\n",
      "66844879846766     56\n",
      "872278549442       54\n",
      "Name: Patient_Id, dtype: int64\n"
     ]
    }
   ],
   "source": [
    "# select top 10 patients who scheduled appointments more than once \n",
    "dup=duplc_patients['Patient_Id'].value_counts().iloc[0:10]\n",
    "print('Top 10 patients who scheduled appointments more than once:\\n\\n{}'.format(dup))"
   ]
  },
  {
   "cell_type": "code",
   "execution_count": 132,
   "metadata": {},
   "outputs": [
    {
     "name": "stdout",
     "output_type": "stream",
     "text": [
      "First day an appointment was scheduled:3764   2015-11-10 07:13:56\n",
      "Name: Scheduled_Day, dtype: datetime64[ns]\n",
      "Last day an appointment was scheduled:87223   2016-06-08 20:07:23\n",
      "Name: Scheduled_Day, dtype: datetime64[ns]\n"
     ]
    }
   ],
   "source": [
    "# Get the first and last date in out dataset for which an appointment was scheduled\n",
    "first_date_sch=df.sort_values(by='Scheduled_Day', ascending=True, inplace=False).Scheduled_Day.head(1)\n",
    "last_date_sch=df.sort_values(by='Scheduled_Day', ascending=True, inplace=False).Scheduled_Day.tail(1)\n",
    "print('First day an appointment was scheduled:{}'.format(first_date_sch))\n",
    "print('Last day an appointment was scheduled:{}'.format(last_date_sch))"
   ]
  },
  {
   "cell_type": "code",
   "execution_count": 133,
   "metadata": {},
   "outputs": [
    {
     "name": "stdout",
     "output_type": "stream",
     "text": [
      "First appointment day:0   2016-04-29\n",
      "Name: Appointment_Day, dtype: datetime64[ns]\n",
      "Last appointment day:91900   2016-06-08\n",
      "Name: Appointment_Day, dtype: datetime64[ns]\n"
     ]
    }
   ],
   "source": [
    "# Get the firstand last date in out dataset for the appointments \n",
    "first_date_app=df.sort_values(by='Appointment_Day', ascending=True, inplace=False).Appointment_Day.head(1)\n",
    "last_date_app=df.sort_values(by='Appointment_Day', ascending=True, inplace=False).Appointment_Day.tail(1)\n",
    "print('First appointment day:{}'.format(first_date_app))\n",
    "print('Last appointment day:{}'.format(last_date_app))"
   ]
  },
  {
   "cell_type": "markdown",
   "metadata": {},
   "source": [
    "Therefore, there are patients that scheduled more than 60 appointments in less than a month and a half. As there are too many of these to just take them as an error in the data, I will assume that a patient who must attend different specialists appointments, attends all of them the same day and the system creates different records for each specialist visit."
   ]
  },
  {
   "cell_type": "markdown",
   "metadata": {},
   "source": [
    "<a id='eda'></a>\n",
    "## Exploratory Data Analysis"
   ]
  },
  {
   "cell_type": "markdown",
   "metadata": {},
   "source": [
    "First of all, I would like to get a quick histogram view of all of the different variables and try to get some observations."
   ]
  },
  {
   "cell_type": "code",
   "execution_count": 134,
   "metadata": {},
   "outputs": [
    {
     "data": {
      "image/png": "[encoded data removed]",
      "text/plain": [
       "<matplotlib.figure.Figure at 0x7f870014dda0>"
      ]
     },
     "metadata": {
      "needs_background": "light"
     },
     "output_type": "display_data"
    }
   ],
   "source": [
    "df.hist(figsize=(15,15));"
   ]
  },
  {
   "cell_type": "markdown",
   "metadata": {},
   "source": [
    "**Observations:**\n",
    "\n",
    "- The sample of young-adult patients is more representative than that of patients older than 60, reaching the peak of representation in infants.\n",
    "- A very small sample of patients is represented by alcoholic, diabetics or handicapped patients.\n",
    "- There are fewer patients who did not receive a reminder SMS for their appointment than patients who did receive one."
   ]
  },
  {
   "cell_type": "markdown",
   "metadata": {},
   "source": [
    "Secondly, I am going to create a mask for our dependent variable so that I can see the correlations with the different independent variables."
   ]
  },
  {
   "cell_type": "code",
   "execution_count": 135,
   "metadata": {},
   "outputs": [],
   "source": [
    "#Create a mask\n",
    "shows = df['No_Show'] == 'No'\n",
    "no_shows = df['No_Show'] == 'Yes'"
   ]
  },
  {
   "cell_type": "markdown",
   "metadata": {},
   "source": [
    "From now on, in order to get better insights on the data, I am going to create **contingency tables** (used in statistics to summarize the relationship between several categorical variables) using  the crosstab function to see the results in proportion.\n",
    "\n",
    "Also, to make sure if a relationship exist or not between variables and answer the question: \"is it statistically significant?\" I am going to conduct a **Chi-Square Test** on each contingency tables. Therefore, if I obtain a small Chi-Square value, that means the correlation between my two variables is very little, while if I obtain a larger value, it'll mean that there is a correlation between my two variables.\n",
    "\n",
    ">I stablish my significance level at 95%:\n",
    "\n",
    ">- If p ≤ 0.05 --> Statistically significant - indicates strong evidence against the null hypothesis, so I reject the null hypothesis.\n",
    ">- If p > 0.05 --> Not statistically significant - indicates weak evidence against the null hypothesis, so I fail to reject the null hypothesis."
   ]
  },
  {
   "cell_type": "markdown",
   "metadata": {},
   "source": [
    "### Question 1: \n",
    ">### What is the proportion of patients who showed up and did not showed up?"
   ]
  },
  {
   "cell_type": "code",
   "execution_count": 136,
   "metadata": {
    "scrolled": true
   },
   "outputs": [],
   "source": [
    "# Count the number of patients who showed up and did not showed up \n",
    "# as well as the total number of patients\n",
    "No_Show_counts=df.groupby('No_Show').count()['Patient_Id']\n",
    "No_Show_total=df.count()['Patient_Id']"
   ]
  },
  {
   "cell_type": "code",
   "execution_count": 137,
   "metadata": {},
   "outputs": [
    {
     "data": {
      "text/plain": [
       "[0.79810171822549558, 0.20189828177450439]"
      ]
     },
     "execution_count": 137,
     "metadata": {},
     "output_type": "execute_result"
    }
   ],
   "source": [
    "# Get proportion of appointment shows versus no shows\n",
    "showsup=No_Show_counts.iloc[0]/No_Show_total\n",
    "noshowsup=No_Show_counts.iloc[1]/No_Show_total\n",
    "No_Show_prop=[showsup,noshowsup]\n",
    "No_Show_prop"
   ]
  },
  {
   "cell_type": "code",
   "execution_count": 138,
   "metadata": {},
   "outputs": [
    {
     "data": {
      "image/png": "[encoded data removed]",
      "text/plain": [
       "<matplotlib.figure.Figure at 0x7f8701938198>"
      ]
     },
     "metadata": {},
     "output_type": "display_data"
    }
   ],
   "source": [
    "# Plot a Pie chart with Appointment status (showed up - not showed up)\n",
    "\n",
    "labels = ['Not Showed up', 'Showed up']\n",
    "sizes = [noshowsup, showsup]\n",
    "colors = ['pink', 'palegreen']\n",
    "explode = (0.1, 0) # only \"explode\" the Not Showed up slice\n",
    "\n",
    "plt.pie(sizes, explode=explode, labels=labels, colors=colors,\n",
    "        autopct='%1.1f%%', shadow=True, startangle=90)\n",
    "plt.title('Show status of the Appointments')\n",
    "plt.axis('equal'); # Equal aspect ratio ensures that pie is drawn as a circle."
   ]
  },
  {
   "cell_type": "markdown",
   "metadata": {},
   "source": [
    "The majority of appointment status are **show up (79.8%)**, while those marked as **not show up** represent only the **20.2%** of the total number of records.\n"
   ]
  },
  {
   "cell_type": "markdown",
   "metadata": {},
   "source": [
    "### Question 2: \n",
    ">### What is the patient age distribution of shows versus no_shows?\n"
   ]
  },
  {
   "cell_type": "code",
   "execution_count": 139,
   "metadata": {},
   "outputs": [
    {
     "data": {
      "text/html": [
       "<div>\n",
       "<style scoped>\n",
       "    .dataframe tbody tr th:only-of-type {\n",
       "        vertical-align: middle;\n",
       "    }\n",
       "\n",
       "    .dataframe tbody tr th {\n",
       "        vertical-align: top;\n",
       "    }\n",
       "\n",
       "    .dataframe thead th {\n",
       "        text-align: right;\n",
       "    }\n",
       "</style>\n",
       "<table border=\"1\" class=\"dataframe\">\n",
       "  <thead>\n",
       "    <tr style=\"text-align: right;\">\n",
       "      <th>No_Show</th>\n",
       "      <th>No</th>\n",
       "      <th>Yes</th>\n",
       "    </tr>\n",
       "    <tr>\n",
       "      <th>Age</th>\n",
       "      <th></th>\n",
       "      <th></th>\n",
       "    </tr>\n",
       "  </thead>\n",
       "  <tbody>\n",
       "    <tr>\n",
       "      <th>0</th>\n",
       "      <td>0.819441</td>\n",
       "      <td>0.180559</td>\n",
       "    </tr>\n",
       "    <tr>\n",
       "      <th>1</th>\n",
       "      <td>0.817422</td>\n",
       "      <td>0.182578</td>\n",
       "    </tr>\n",
       "    <tr>\n",
       "      <th>2</th>\n",
       "      <td>0.844252</td>\n",
       "      <td>0.155748</td>\n",
       "    </tr>\n",
       "    <tr>\n",
       "      <th>3</th>\n",
       "      <td>0.816920</td>\n",
       "      <td>0.183080</td>\n",
       "    </tr>\n",
       "    <tr>\n",
       "      <th>4</th>\n",
       "      <td>0.782910</td>\n",
       "      <td>0.217090</td>\n",
       "    </tr>\n",
       "  </tbody>\n",
       "</table>\n",
       "</div>"
      ],
      "text/plain": [
       "No_Show        No       Yes\n",
       "Age                        \n",
       "0        0.819441  0.180559\n",
       "1        0.817422  0.182578\n",
       "2        0.844252  0.155748\n",
       "3        0.816920  0.183080\n",
       "4        0.782910  0.217090"
      ]
     },
     "execution_count": 139,
     "metadata": {},
     "output_type": "execute_result"
    }
   ],
   "source": [
    "#Create a contingency table: age vs. No-show to check the difference for all ages\n",
    "age_vs_no_show = pd.crosstab(index = df['Age'], columns = df['No_Show'], normalize = 'index') #With normalize='index’ we normalize over each row.\n",
    "age_vs_no_show.head()"
   ]
  },
  {
   "cell_type": "code",
   "execution_count": 140,
   "metadata": {},
   "outputs": [
    {
     "data": {
      "image/png": "[encoded data removed]",
      "text/plain": [
       "<matplotlib.figure.Figure at 0x7f86ffdda390>"
      ]
     },
     "metadata": {
      "needs_background": "light"
     },
     "output_type": "display_data"
    }
   ],
   "source": [
    "# Plot a histogram chart Age vs. Appointment status (showed up - not showed up)\n",
    "\n",
    "colors = ['palegreen','pink']\n",
    "\n",
    "age_vs_no_show.plot(kind='bar', stacked=True, color=colors, figsize=(10,5))\n",
    "plt.xlabel('Age')\n",
    "plt.ylabel('Show vs. No Show proportion')\n",
    "plt.title('Age vs Appointment status')\n",
    "L=plt.legend()\n",
    "L.get_texts()[0].set_text('Showed up')\n",
    "L.get_texts()[1].set_text('No Showed up')\n"
   ]
  },
  {
   "cell_type": "markdown",
   "metadata": {},
   "source": [
    "- We can see in the chart above that **patients whose age is above 60 take appointment more seriously** than patients under that age.\n",
    "- Patients **between 9 and 45 years old** are those that represents a **greater proportion of no showed up appointmens.** \n"
   ]
  },
  {
   "cell_type": "code",
   "execution_count": 141,
   "metadata": {},
   "outputs": [
    {
     "data": {
      "text/plain": [
       "No_Show\n",
       "No     37.790504\n",
       "Yes    34.317872\n",
       "Name: Age, dtype: float64"
      ]
     },
     "execution_count": 141,
     "metadata": {},
     "output_type": "execute_result"
    }
   ],
   "source": [
    "# Average ages for different show status\n",
    "df.groupby('No_Show')['Age'].mean()"
   ]
  },
  {
   "cell_type": "markdown",
   "metadata": {},
   "source": [
    "The mean for patients who showed up can be rounded to 38 and for the patients that did not showed up can be rounded to 34."
   ]
  },
  {
   "cell_type": "markdown",
   "metadata": {},
   "source": [
    "### T-Test\n",
    "#### Age vs No shows up"
   ]
  },
  {
   "cell_type": "markdown",
   "metadata": {},
   "source": [
    "In this case, as we have calculated the means, we are goint to conduct the T-Test, which is used to compare means between two groups of a small sample size and tell you if they are different from each other and let you know if those differences could have happened by chance."
   ]
  },
  {
   "cell_type": "code",
   "execution_count": 142,
   "metadata": {},
   "outputs": [],
   "source": [
    "# Import the package needed\n",
    "import scipy"
   ]
  },
  {
   "cell_type": "code",
   "execution_count": 143,
   "metadata": {},
   "outputs": [],
   "source": [
    "# Create columns for shows and no_whows ages\n",
    "shows_age = df[df.No_Show == 'No'].Age\n",
    "no_shows_age = df[df.No_Show == 'Yes'].Age"
   ]
  },
  {
   "cell_type": "code",
   "execution_count": 144,
   "metadata": {},
   "outputs": [
    {
     "data": {
      "text/plain": [
       "Ttest_indResult(statistic=20.089465024413947, pvalue=1.3200839802166723e-89)"
      ]
     },
     "execution_count": 144,
     "metadata": {},
     "output_type": "execute_result"
    }
   ],
   "source": [
    "# Perform the T-Test\n",
    "ttest_results = scipy.stats.ttest_ind(shows_age, no_shows_age)\n",
    "ttest_results"
   ]
  },
  {
   "cell_type": "markdown",
   "metadata": {},
   "source": [
    "A statistical hypothesis test determines whether there is a statistically significant relationship between the data. The null hypothesis (considered the default in the test experiment) states that there is no meaningful relationship while the alternative hypothesis states the opposite.\n",
    "\n",
    "As we can see in our output, the p-value is notoriously small. This shows evidences against the null hypothesis, therefore, I am going to reject it and assume that **there is a meaningful relationship between the age and the appointment status.**"
   ]
  },
  {
   "cell_type": "markdown",
   "metadata": {},
   "source": [
    "### Question 3:  \n",
    ">### Is there a relationship between the gender and the Appointment status?"
   ]
  },
  {
   "cell_type": "code",
   "execution_count": 145,
   "metadata": {},
   "outputs": [
    {
     "data": {
      "text/html": [
       "<div>\n",
       "<style scoped>\n",
       "    .dataframe tbody tr th:only-of-type {\n",
       "        vertical-align: middle;\n",
       "    }\n",
       "\n",
       "    .dataframe tbody tr th {\n",
       "        vertical-align: top;\n",
       "    }\n",
       "\n",
       "    .dataframe thead th {\n",
       "        text-align: right;\n",
       "    }\n",
       "</style>\n",
       "<table border=\"1\" class=\"dataframe\">\n",
       "  <thead>\n",
       "    <tr style=\"text-align: right;\">\n",
       "      <th>No_Show</th>\n",
       "      <th>No</th>\n",
       "      <th>Yes</th>\n",
       "    </tr>\n",
       "    <tr>\n",
       "      <th>Gender</th>\n",
       "      <th></th>\n",
       "      <th></th>\n",
       "    </tr>\n",
       "  </thead>\n",
       "  <tbody>\n",
       "    <tr>\n",
       "      <th>F</th>\n",
       "      <td>0.796885</td>\n",
       "      <td>0.203115</td>\n",
       "    </tr>\n",
       "    <tr>\n",
       "      <th>M</th>\n",
       "      <td>0.800362</td>\n",
       "      <td>0.199638</td>\n",
       "    </tr>\n",
       "  </tbody>\n",
       "</table>\n",
       "</div>"
      ],
      "text/plain": [
       "No_Show        No       Yes\n",
       "Gender                     \n",
       "F        0.796885  0.203115\n",
       "M        0.800362  0.199638"
      ]
     },
     "execution_count": 145,
     "metadata": {},
     "output_type": "execute_result"
    }
   ],
   "source": [
    "#Create a contingency table: Gender vs. No-show\n",
    "gender_vs_no_show = pd.crosstab(index = df['Gender'], columns = df['No_Show'], normalize = 'index') #With normalize='index’ we normalize over each row.\n",
    "gender_vs_no_show.head()"
   ]
  },
  {
   "cell_type": "code",
   "execution_count": 146,
   "metadata": {},
   "outputs": [
    {
     "data": {
      "image/png": "[encoded data removed]",
      "text/plain": [
       "<matplotlib.figure.Figure at 0x7f87009cb240>"
      ]
     },
     "metadata": {
      "needs_background": "light"
     },
     "output_type": "display_data"
    }
   ],
   "source": [
    "# Plot a histogram chart Gender vs. Appointment status (showed up - not showed up)\n",
    "\n",
    "colors = ['palegreen','pink']\n",
    "\n",
    "gender_vs_no_show.plot(kind='bar', stacked=True, color=colors, figsize=(7,5))\n",
    "plt.xlabel('Gender')\n",
    "plt.ylabel('Number of Appointments')\n",
    "plt.title('Gender vs Appointment status')\n",
    "L=plt.legend(fancybox=True, framealpha=0.5)\n",
    "L.get_texts()[0].set_text('Showed up')\n",
    "L.get_texts()[1].set_text('No Showed up')"
   ]
  },
  {
   "cell_type": "markdown",
   "metadata": {},
   "source": [
    "As we can see from the plot, there is not a lot of difference on the appointment status based on the patient gender."
   ]
  },
  {
   "cell_type": "markdown",
   "metadata": {},
   "source": [
    "### Chi-Square Test\n",
    "#### Gender vs No shows up"
   ]
  },
  {
   "cell_type": "code",
   "execution_count": 147,
   "metadata": {},
   "outputs": [],
   "source": [
    "from scipy.stats import chi2_contingency"
   ]
  },
  {
   "cell_type": "code",
   "execution_count": 148,
   "metadata": {},
   "outputs": [
    {
     "data": {
      "text/plain": [
       "(3.7593240074497538e-05, 0.99510793499224592)"
      ]
     },
     "execution_count": 148,
     "metadata": {},
     "output_type": "execute_result"
    }
   ],
   "source": [
    "#Conduct the Chi-Square Test(chi2), showing the p (p-value), dof(degrees of freedom) and ex(expected frequencies)\n",
    "chi2, p, dof,ex = chi2_contingency(gender_vs_no_show, correction=False)\n",
    "chi2, p"
   ]
  },
  {
   "cell_type": "markdown",
   "metadata": {},
   "source": [
    "The p-value is greater than 0.05% (0.99%), therefore, I am going not going to assume that **there is NOT a meaningful relationship between the gender and the appointment status.**"
   ]
  },
  {
   "cell_type": "markdown",
   "metadata": {},
   "source": [
    "### Questions 4 & 5:  \n",
    ">### Is there a relationship between being involved in a scholarship and the status of the appointment?\n",
    ">### Is there a relationship between the patient health designation and the status of the appointment?"
   ]
  },
  {
   "cell_type": "markdown",
   "metadata": {},
   "source": [
    "Our **categorical variables** are: scholarship, Hypertension, Diabetes,  Alcoholism, Handcap, SMS_received and No_Show."
   ]
  },
  {
   "cell_type": "code",
   "execution_count": 149,
   "metadata": {
    "scrolled": true
   },
   "outputs": [
    {
     "data": {
      "image/png": "[encoded data removed]",
      "text/plain": [
       "<matplotlib.figure.Figure at 0x7f8700f038d0>"
      ]
     },
     "metadata": {
      "needs_background": "light"
     },
     "output_type": "display_data"
    }
   ],
   "source": [
    "#Create a list with all the categorical variables\n",
    "cat_var = ['Scholarship','Hipertension','Diabetes','Alcoholism','Handcap','SMS_received']\n",
    "\n",
    "# multiple line plot\n",
    "fig=plt.figure(figsize=(14,15))\n",
    "for i, var in enumerate(cat_var):\n",
    "    ax = fig.add_subplot(3, 3, i+1)\n",
    "    # Add title and labels\n",
    "    ax.set_title(var + ' vs No_Show')\n",
    "    ax.set_xlabel(var)\n",
    "    ax.set_ylabel('Number of Appointments')\n",
    "    # Plot the proportions\n",
    "    pd.crosstab(index = df[var], columns = df['No_Show'], normalize = 'index').plot(ax=ax, kind='bar', stacked=True, color=['palegreen','pink'])\n",
    "    # Modify legends\n",
    "    L=plt.legend(fancybox=True, framealpha=0.7, loc=3)\n",
    "    L.get_texts()[0].set_text('Showed up')\n",
    "    L.get_texts()[1].set_text('No Showed up');"
   ]
  },
  {
   "cell_type": "markdown",
   "metadata": {},
   "source": [
    "In general, there is not a big difference between both appointment status (show / no-show) due to the health designation. What is very remarkable, in my opinion, is that in proportion, there are **more patients who did not attend the appointment and got a reminder SMS than those who did not attend it without having received it.**"
   ]
  },
  {
   "cell_type": "markdown",
   "metadata": {},
   "source": [
    "### Chi-Square Test\n",
    "#### Categorical variables vs No shows up"
   ]
  },
  {
   "cell_type": "code",
   "execution_count": 150,
   "metadata": {},
   "outputs": [
    {
     "name": "stdout",
     "output_type": "stream",
     "text": [
      "3.13149499541e-22\n",
      "2.00724179106e-32\n",
      "4.6773921245e-07\n",
      "0.952033520537\n",
      "0.112251011129\n",
      "0.0\n"
     ]
    }
   ],
   "source": [
    "#Create a list with all the categorical variables\n",
    "cat_var_chi2_test = ['Scholarship','Hipertension','Diabetes','Alcoholism','Handcap','SMS_received']\n",
    "\n",
    "\n",
    "#Conduct the Chi-Square Test(chi2), showing the p (p-value), dof(degrees of freedom) and ex(expected frequencies)\n",
    "# multiple chi-square test\n",
    "for i, result in enumerate(cat_var_chi2_test):\n",
    "    chi2, p, dof,ex = chi2_contingency(pd.crosstab(index = df[result], columns = df['No_Show']), correction=False)\n",
    "\n",
    "    print(p)\n",
    "\n"
   ]
  },
  {
   "cell_type": "markdown",
   "metadata": {},
   "source": [
    "The Chi-Square Test p values are:\n",
    "\n",
    "    - p value for Scholarship: 3.13149499541e-22 \n",
    "    - p value for Hipertension: 2.00724179106e-32\n",
    "    - p value for Diabetes: 4.6773921245e-07\n",
    "    - p value for Alcoholism: 0.952033520537\n",
    "    - p value for Handcap: 0.112251011129\n",
    "    - p value for SMS_received: 0.0\n",
    "    \n",
    "Therefore: \n",
    "\n",
    "- There is a **meaningful relationship** between the independent variables **Scholarship**, **Hipertension**, **Diabetes** and **SMS_received** with our dependent variable Appointment status (No_Show)\n",
    "\n",
    "- There is **NOT a meaningful relationship** between the independent variables **Alcoholism** and **Handcap** with our dependent variable Appointment status (No_Show)"
   ]
  },
  {
   "cell_type": "markdown",
   "metadata": {},
   "source": [
    "### Question 6:  \n",
    ">### Top 10 neighborhoods with the highest number of no-show ups?"
   ]
  },
  {
   "cell_type": "code",
   "execution_count": 151,
   "metadata": {},
   "outputs": [
    {
     "data": {
      "text/plain": [
       "JARDIM CAMBURI       1465\n",
       "MARIA ORTIZ          1219\n",
       "ITARARÉ               923\n",
       "RESISTÊNCIA           905\n",
       "CENTRO                703\n",
       "JESUS DE NAZARETH     696\n",
       "JARDIM DA PENHA       631\n",
       "CARATOÍRA             591\n",
       "TABUAZEIRO            572\n",
       "BONFIM                550\n",
       "Name: Neighbourhood, dtype: int64"
      ]
     },
     "execution_count": 151,
     "metadata": {},
     "output_type": "execute_result"
    }
   ],
   "source": [
    "# Top 10 neighbourhood with NO shows up\n",
    "hoods_no_show=df.Neighbourhood[no_shows].value_counts().head(10)\n",
    "hoods_no_show"
   ]
  },
  {
   "cell_type": "code",
   "execution_count": 152,
   "metadata": {},
   "outputs": [
    {
     "data": {
      "image/png": "[encoded data removed]",
      "text/plain": [
       "<matplotlib.figure.Figure at 0x7f87009637f0>"
      ]
     },
     "metadata": {},
     "output_type": "display_data"
    }
   ],
   "source": [
    "# Plot a Pie chart with Appointment status (showed up - not showed up)\n",
    "\n",
    "labels = ['JARDIM CAMBURI','MARIA ORTIZ','ITARARÉ','RESISTÊNCIA',\n",
    "          'CENTRO','JESUS DE NAZARETH','JARDIM DA PENHA','CARATOÍRA',\n",
    "          'TABUAZEIRO','BONFIM']\n",
    "\n",
    "colors = ['darkred', 'firebrick','indianred','palevioletred','lightcoral',\n",
    "          'salmon','darksalmon','lightsalmon','darkorange','orange']\n",
    "\n",
    "plt.pie(hoods_no_show, labels=labels,\n",
    "        autopct='%1.1f%%', shadow=True, startangle=90, colors=colors)\n",
    "plt.title('\\n\\nTop 10 \"No-Show Appointments\" neighbourhoods\\n\\n',fontsize=18)\n",
    "plt.axis('equal'); # Equal aspect ratio ensures that pie is drawn as a circle."
   ]
  },
  {
   "cell_type": "markdown",
   "metadata": {},
   "source": [
    "### Question 7:  \n",
    ">### Is there a specific day of the week in which more not show ups occur? "
   ]
  },
  {
   "cell_type": "code",
   "execution_count": 153,
   "metadata": {
    "scrolled": false
   },
   "outputs": [
    {
     "data": {
      "text/html": [
       "<div>\n",
       "<style scoped>\n",
       "    .dataframe tbody tr th:only-of-type {\n",
       "        vertical-align: middle;\n",
       "    }\n",
       "\n",
       "    .dataframe tbody tr th {\n",
       "        vertical-align: top;\n",
       "    }\n",
       "\n",
       "    .dataframe thead th {\n",
       "        text-align: right;\n",
       "    }\n",
       "</style>\n",
       "<table border=\"1\" class=\"dataframe\">\n",
       "  <thead>\n",
       "    <tr style=\"text-align: right;\">\n",
       "      <th>No_Show</th>\n",
       "      <th>No</th>\n",
       "      <th>Yes</th>\n",
       "    </tr>\n",
       "    <tr>\n",
       "      <th>Appointment_Weekday</th>\n",
       "      <th></th>\n",
       "      <th></th>\n",
       "    </tr>\n",
       "  </thead>\n",
       "  <tbody>\n",
       "    <tr>\n",
       "      <th>Friday</th>\n",
       "      <td>14982</td>\n",
       "      <td>4037</td>\n",
       "    </tr>\n",
       "    <tr>\n",
       "      <th>Monday</th>\n",
       "      <td>18024</td>\n",
       "      <td>4689</td>\n",
       "    </tr>\n",
       "    <tr>\n",
       "      <th>Saturday</th>\n",
       "      <td>30</td>\n",
       "      <td>9</td>\n",
       "    </tr>\n",
       "    <tr>\n",
       "      <th>Thursday</th>\n",
       "      <td>13909</td>\n",
       "      <td>3337</td>\n",
       "    </tr>\n",
       "    <tr>\n",
       "      <th>Tuesday</th>\n",
       "      <td>20488</td>\n",
       "      <td>5150</td>\n",
       "    </tr>\n",
       "    <tr>\n",
       "      <th>Wednesday</th>\n",
       "      <td>20774</td>\n",
       "      <td>5092</td>\n",
       "    </tr>\n",
       "  </tbody>\n",
       "</table>\n",
       "</div>"
      ],
      "text/plain": [
       "No_Show                 No   Yes\n",
       "Appointment_Weekday             \n",
       "Friday               14982  4037\n",
       "Monday               18024  4689\n",
       "Saturday                30     9\n",
       "Thursday             13909  3337\n",
       "Tuesday              20488  5150\n",
       "Wednesday            20774  5092"
      ]
     },
     "execution_count": 153,
     "metadata": {},
     "output_type": "execute_result"
    }
   ],
   "source": [
    "#Number of show ups and no show ups by weekdays\n",
    "weekdays_vs_NoShow = pd.crosstab(index = df['Appointment_Weekday'], columns = df['No_Show'])\n",
    "weekdays_vs_NoShow"
   ]
  },
  {
   "cell_type": "code",
   "execution_count": 154,
   "metadata": {},
   "outputs": [
    {
     "data": {
      "image/png": "[encoded data removed]",
      "text/plain": [
       "<matplotlib.figure.Figure at 0x7f87015617f0>"
      ]
     },
     "metadata": {
      "needs_background": "light"
     },
     "output_type": "display_data"
    }
   ],
   "source": [
    "#Plot days vs Show ups and No show ups\n",
    "days_shows = df['Appointment_Weekday'][shows].value_counts()\n",
    "days_noshows= df['Appointment_Weekday'][no_shows].value_counts()\n",
    "\n",
    "Appointment_Weekday=['Wednesday','Tuesday','Monday','Friday','Thursday','Saturday']\n",
    "\n",
    "days_shows.plot(color='palegreen',linewidth=3.0,grid=.5)\n",
    "days_noshows.plot(color='pink',linewidth=3.0,grid=.5)\n",
    "plt.xlabel(Appointment_Weekday)\n",
    "plt.ylabel('Number of Appointments')\n",
    "plt.title('\\nDays vs Appointment status\\n')\n",
    "L=plt.legend(fancybox=True, framealpha=0.9)\n",
    "L.get_texts()[0].set_text('Showed up')\n",
    "L.get_texts()[1].set_text('No Showed up');"
   ]
  },
  {
   "cell_type": "markdown",
   "metadata": {},
   "source": [
    "We can see from the graph how the curves of show and no-show appointments follow a very similar dynamic throughout the weekdays. **Wednesday is the day with the highest number of no show ups** (also with the highest number of show ups) while **saturday is the day with the lowest number of no show ups** (as well as for the show ups). However, we need to look at the data in proportion."
   ]
  },
  {
   "cell_type": "code",
   "execution_count": 155,
   "metadata": {},
   "outputs": [
    {
     "data": {
      "text/html": [
       "<div>\n",
       "<style scoped>\n",
       "    .dataframe tbody tr th:only-of-type {\n",
       "        vertical-align: middle;\n",
       "    }\n",
       "\n",
       "    .dataframe tbody tr th {\n",
       "        vertical-align: top;\n",
       "    }\n",
       "\n",
       "    .dataframe thead th {\n",
       "        text-align: right;\n",
       "    }\n",
       "</style>\n",
       "<table border=\"1\" class=\"dataframe\">\n",
       "  <thead>\n",
       "    <tr style=\"text-align: right;\">\n",
       "      <th>No_Show</th>\n",
       "      <th>No</th>\n",
       "      <th>Yes</th>\n",
       "    </tr>\n",
       "    <tr>\n",
       "      <th>Appointment_Weekday</th>\n",
       "      <th></th>\n",
       "      <th></th>\n",
       "    </tr>\n",
       "  </thead>\n",
       "  <tbody>\n",
       "    <tr>\n",
       "      <th>Friday</th>\n",
       "      <td>0.787739</td>\n",
       "      <td>0.212261</td>\n",
       "    </tr>\n",
       "    <tr>\n",
       "      <th>Monday</th>\n",
       "      <td>0.793554</td>\n",
       "      <td>0.206446</td>\n",
       "    </tr>\n",
       "    <tr>\n",
       "      <th>Saturday</th>\n",
       "      <td>0.769231</td>\n",
       "      <td>0.230769</td>\n",
       "    </tr>\n",
       "    <tr>\n",
       "      <th>Thursday</th>\n",
       "      <td>0.806506</td>\n",
       "      <td>0.193494</td>\n",
       "    </tr>\n",
       "    <tr>\n",
       "      <th>Tuesday</th>\n",
       "      <td>0.799126</td>\n",
       "      <td>0.200874</td>\n",
       "    </tr>\n",
       "    <tr>\n",
       "      <th>Wednesday</th>\n",
       "      <td>0.803139</td>\n",
       "      <td>0.196861</td>\n",
       "    </tr>\n",
       "  </tbody>\n",
       "</table>\n",
       "</div>"
      ],
      "text/plain": [
       "No_Show                    No       Yes\n",
       "Appointment_Weekday                    \n",
       "Friday               0.787739  0.212261\n",
       "Monday               0.793554  0.206446\n",
       "Saturday             0.769231  0.230769\n",
       "Thursday             0.806506  0.193494\n",
       "Tuesday              0.799126  0.200874\n",
       "Wednesday            0.803139  0.196861"
      ]
     },
     "execution_count": 155,
     "metadata": {},
     "output_type": "execute_result"
    }
   ],
   "source": [
    "#Create a table: Appointment_Weekday vs. No-show (to check proportionally)\n",
    "weekdays_vs_no_show = pd.crosstab(index = df['Appointment_Weekday'], columns = df['No_Show'], normalize = 'index')\n",
    "weekdays_vs_no_show"
   ]
  },
  {
   "cell_type": "code",
   "execution_count": 156,
   "metadata": {},
   "outputs": [
    {
     "data": {
      "image/png": "[encoded data removed]",
      "text/plain": [
       "<matplotlib.figure.Figure at 0x7f8701576128>"
      ]
     },
     "metadata": {
      "needs_background": "light"
     },
     "output_type": "display_data"
    }
   ],
   "source": [
    "# Plot a histogram chart Appointment_Weekday vs. Appointment status (showed up - not showed up)\n",
    "\n",
    "colors = ['palegreen','pink']\n",
    "\n",
    "weekdays_vs_no_show.plot(kind='bar', stacked=True, color=colors, figsize=(7,5))\n",
    "plt.xlabel('Weekdays')\n",
    "plt.ylabel('Number of Appointments')\n",
    "plt.title('Appointment Weekday vs Appointment Status')\n",
    "L=plt.legend(fancybox=True, framealpha=0.5)\n",
    "L.get_texts()[0].set_text('Showed up')\n",
    "L.get_texts()[1].set_text('No Showed up')"
   ]
  },
  {
   "cell_type": "markdown",
   "metadata": {},
   "source": [
    "From this graph we can conclude that the difference on Saturday might be due to the low number of records for this day, therefore, any Saturday  record represents a greater variation in proportion to the other days."
   ]
  },
  {
   "cell_type": "markdown",
   "metadata": {},
   "source": [
    "### Chi-Square Test\n",
    "#### Appointment Weekday vs No shows up"
   ]
  },
  {
   "cell_type": "code",
   "execution_count": 157,
   "metadata": {},
   "outputs": [
    {
     "data": {
      "text/plain": [
       "(0.0055810628404305276, 0.99999987646912758)"
      ]
     },
     "execution_count": 157,
     "metadata": {},
     "output_type": "execute_result"
    }
   ],
   "source": [
    "#Conduct the Chi-Square Test(chi2), showing the p (p-value), dof(degrees of freedom) and ex(expected frequencies)\n",
    "chi2, p, dof,ex = chi2_contingency(weekdays_vs_no_show, correction=False)\n",
    "chi2, p"
   ]
  },
  {
   "cell_type": "markdown",
   "metadata": {},
   "source": [
    "The p-value is greater than 0.05% (0.99%), therefore, I am going not going to assume that **there is NOT a meaningful relationship between the appointment weekday and the appointment status.**"
   ]
  },
  {
   "cell_type": "markdown",
   "metadata": {},
   "source": [
    "### Question 8:  \n",
    ">### Does the waiting days period of time affect the status of the appointment?"
   ]
  },
  {
   "cell_type": "code",
   "execution_count": 158,
   "metadata": {},
   "outputs": [
    {
     "data": {
      "text/plain": [
       "Index(['Patient_Id', 'Appointment_ID', 'Gender', 'Scheduled_Day',\n",
       "       'Appointment_Day', 'Age', 'Neighbourhood', 'Scholarship',\n",
       "       'Hipertension', 'Diabetes', 'Alcoholism', 'Handcap', 'SMS_received',\n",
       "       'No_Show', 'Waiting_Days', 'Appointment_Weekday'],\n",
       "      dtype='object')"
      ]
     },
     "execution_count": 158,
     "metadata": {},
     "output_type": "execute_result"
    }
   ],
   "source": [
    "df.columns"
   ]
  },
  {
   "cell_type": "code",
   "execution_count": 159,
   "metadata": {
    "scrolled": true
   },
   "outputs": [
    {
     "data": {
      "text/html": [
       "<div>\n",
       "<style scoped>\n",
       "    .dataframe tbody tr th:only-of-type {\n",
       "        vertical-align: middle;\n",
       "    }\n",
       "\n",
       "    .dataframe tbody tr th {\n",
       "        vertical-align: top;\n",
       "    }\n",
       "\n",
       "    .dataframe thead th {\n",
       "        text-align: right;\n",
       "    }\n",
       "</style>\n",
       "<table border=\"1\" class=\"dataframe\">\n",
       "  <thead>\n",
       "    <tr style=\"text-align: right;\">\n",
       "      <th>No_Show</th>\n",
       "      <th>No</th>\n",
       "      <th>Yes</th>\n",
       "    </tr>\n",
       "    <tr>\n",
       "      <th>Waiting_Days</th>\n",
       "      <th></th>\n",
       "      <th></th>\n",
       "    </tr>\n",
       "  </thead>\n",
       "  <tbody>\n",
       "    <tr>\n",
       "      <th>0</th>\n",
       "      <td>40870</td>\n",
       "      <td>2905</td>\n",
       "    </tr>\n",
       "    <tr>\n",
       "      <th>1</th>\n",
       "      <td>5123</td>\n",
       "      <td>1602</td>\n",
       "    </tr>\n",
       "    <tr>\n",
       "      <th>2</th>\n",
       "      <td>2093</td>\n",
       "      <td>644</td>\n",
       "    </tr>\n",
       "    <tr>\n",
       "      <th>3</th>\n",
       "      <td>4059</td>\n",
       "      <td>1231</td>\n",
       "    </tr>\n",
       "    <tr>\n",
       "      <th>4</th>\n",
       "      <td>2405</td>\n",
       "      <td>872</td>\n",
       "    </tr>\n",
       "    <tr>\n",
       "      <th>5</th>\n",
       "      <td>3036</td>\n",
       "      <td>1001</td>\n",
       "    </tr>\n",
       "    <tr>\n",
       "      <th>6</th>\n",
       "      <td>3597</td>\n",
       "      <td>1309</td>\n",
       "    </tr>\n",
       "    <tr>\n",
       "      <th>7</th>\n",
       "      <td>1662</td>\n",
       "      <td>670</td>\n",
       "    </tr>\n",
       "    <tr>\n",
       "      <th>8</th>\n",
       "      <td>1165</td>\n",
       "      <td>440</td>\n",
       "    </tr>\n",
       "    <tr>\n",
       "      <th>9</th>\n",
       "      <td>951</td>\n",
       "      <td>440</td>\n",
       "    </tr>\n",
       "    <tr>\n",
       "      <th>10</th>\n",
       "      <td>675</td>\n",
       "      <td>312</td>\n",
       "    </tr>\n",
       "    <tr>\n",
       "      <th>11</th>\n",
       "      <td>762</td>\n",
       "      <td>353</td>\n",
       "    </tr>\n",
       "    <tr>\n",
       "      <th>12</th>\n",
       "      <td>1146</td>\n",
       "      <td>536</td>\n",
       "    </tr>\n",
       "    <tr>\n",
       "      <th>13</th>\n",
       "      <td>2000</td>\n",
       "      <td>913</td>\n",
       "    </tr>\n",
       "    <tr>\n",
       "      <th>14</th>\n",
       "      <td>1001</td>\n",
       "      <td>502</td>\n",
       "    </tr>\n",
       "    <tr>\n",
       "      <th>15</th>\n",
       "      <td>800</td>\n",
       "      <td>351</td>\n",
       "    </tr>\n",
       "    <tr>\n",
       "      <th>16</th>\n",
       "      <td>757</td>\n",
       "      <td>350</td>\n",
       "    </tr>\n",
       "    <tr>\n",
       "      <th>17</th>\n",
       "      <td>709</td>\n",
       "      <td>312</td>\n",
       "    </tr>\n",
       "    <tr>\n",
       "      <th>18</th>\n",
       "      <td>681</td>\n",
       "      <td>363</td>\n",
       "    </tr>\n",
       "    <tr>\n",
       "      <th>19</th>\n",
       "      <td>779</td>\n",
       "      <td>408</td>\n",
       "    </tr>\n",
       "    <tr>\n",
       "      <th>20</th>\n",
       "      <td>1286</td>\n",
       "      <td>575</td>\n",
       "    </tr>\n",
       "    <tr>\n",
       "      <th>21</th>\n",
       "      <td>769</td>\n",
       "      <td>404</td>\n",
       "    </tr>\n",
       "    <tr>\n",
       "      <th>22</th>\n",
       "      <td>546</td>\n",
       "      <td>276</td>\n",
       "    </tr>\n",
       "    <tr>\n",
       "      <th>23</th>\n",
       "      <td>387</td>\n",
       "      <td>235</td>\n",
       "    </tr>\n",
       "    <tr>\n",
       "      <th>24</th>\n",
       "      <td>381</td>\n",
       "      <td>256</td>\n",
       "    </tr>\n",
       "    <tr>\n",
       "      <th>25</th>\n",
       "      <td>468</td>\n",
       "      <td>263</td>\n",
       "    </tr>\n",
       "    <tr>\n",
       "      <th>26</th>\n",
       "      <td>693</td>\n",
       "      <td>320</td>\n",
       "    </tr>\n",
       "    <tr>\n",
       "      <th>27</th>\n",
       "      <td>1203</td>\n",
       "      <td>503</td>\n",
       "    </tr>\n",
       "    <tr>\n",
       "      <th>28</th>\n",
       "      <td>733</td>\n",
       "      <td>356</td>\n",
       "    </tr>\n",
       "    <tr>\n",
       "      <th>29</th>\n",
       "      <td>517</td>\n",
       "      <td>187</td>\n",
       "    </tr>\n",
       "    <tr>\n",
       "      <th>...</th>\n",
       "      <td>...</td>\n",
       "      <td>...</td>\n",
       "    </tr>\n",
       "    <tr>\n",
       "      <th>100</th>\n",
       "      <td>1</td>\n",
       "      <td>0</td>\n",
       "    </tr>\n",
       "    <tr>\n",
       "      <th>101</th>\n",
       "      <td>3</td>\n",
       "      <td>1</td>\n",
       "    </tr>\n",
       "    <tr>\n",
       "      <th>102</th>\n",
       "      <td>2</td>\n",
       "      <td>3</td>\n",
       "    </tr>\n",
       "    <tr>\n",
       "      <th>103</th>\n",
       "      <td>2</td>\n",
       "      <td>6</td>\n",
       "    </tr>\n",
       "    <tr>\n",
       "      <th>104</th>\n",
       "      <td>4</td>\n",
       "      <td>0</td>\n",
       "    </tr>\n",
       "    <tr>\n",
       "      <th>106</th>\n",
       "      <td>2</td>\n",
       "      <td>0</td>\n",
       "    </tr>\n",
       "    <tr>\n",
       "      <th>107</th>\n",
       "      <td>5</td>\n",
       "      <td>0</td>\n",
       "    </tr>\n",
       "    <tr>\n",
       "      <th>108</th>\n",
       "      <td>5</td>\n",
       "      <td>0</td>\n",
       "    </tr>\n",
       "    <tr>\n",
       "      <th>109</th>\n",
       "      <td>1</td>\n",
       "      <td>1</td>\n",
       "    </tr>\n",
       "    <tr>\n",
       "      <th>110</th>\n",
       "      <td>4</td>\n",
       "      <td>1</td>\n",
       "    </tr>\n",
       "    <tr>\n",
       "      <th>111</th>\n",
       "      <td>5</td>\n",
       "      <td>0</td>\n",
       "    </tr>\n",
       "    <tr>\n",
       "      <th>114</th>\n",
       "      <td>2</td>\n",
       "      <td>0</td>\n",
       "    </tr>\n",
       "    <tr>\n",
       "      <th>116</th>\n",
       "      <td>1</td>\n",
       "      <td>0</td>\n",
       "    </tr>\n",
       "    <tr>\n",
       "      <th>118</th>\n",
       "      <td>4</td>\n",
       "      <td>0</td>\n",
       "    </tr>\n",
       "    <tr>\n",
       "      <th>121</th>\n",
       "      <td>3</td>\n",
       "      <td>0</td>\n",
       "    </tr>\n",
       "    <tr>\n",
       "      <th>122</th>\n",
       "      <td>1</td>\n",
       "      <td>0</td>\n",
       "    </tr>\n",
       "    <tr>\n",
       "      <th>124</th>\n",
       "      <td>1</td>\n",
       "      <td>0</td>\n",
       "    </tr>\n",
       "    <tr>\n",
       "      <th>125</th>\n",
       "      <td>0</td>\n",
       "      <td>1</td>\n",
       "    </tr>\n",
       "    <tr>\n",
       "      <th>126</th>\n",
       "      <td>1</td>\n",
       "      <td>0</td>\n",
       "    </tr>\n",
       "    <tr>\n",
       "      <th>131</th>\n",
       "      <td>0</td>\n",
       "      <td>1</td>\n",
       "    </tr>\n",
       "    <tr>\n",
       "      <th>132</th>\n",
       "      <td>7</td>\n",
       "      <td>4</td>\n",
       "    </tr>\n",
       "    <tr>\n",
       "      <th>138</th>\n",
       "      <td>0</td>\n",
       "      <td>1</td>\n",
       "    </tr>\n",
       "    <tr>\n",
       "      <th>141</th>\n",
       "      <td>5</td>\n",
       "      <td>3</td>\n",
       "    </tr>\n",
       "    <tr>\n",
       "      <th>145</th>\n",
       "      <td>0</td>\n",
       "      <td>1</td>\n",
       "    </tr>\n",
       "    <tr>\n",
       "      <th>150</th>\n",
       "      <td>0</td>\n",
       "      <td>1</td>\n",
       "    </tr>\n",
       "    <tr>\n",
       "      <th>154</th>\n",
       "      <td>4</td>\n",
       "      <td>6</td>\n",
       "    </tr>\n",
       "    <tr>\n",
       "      <th>161</th>\n",
       "      <td>9</td>\n",
       "      <td>2</td>\n",
       "    </tr>\n",
       "    <tr>\n",
       "      <th>168</th>\n",
       "      <td>7</td>\n",
       "      <td>1</td>\n",
       "    </tr>\n",
       "    <tr>\n",
       "      <th>175</th>\n",
       "      <td>10</td>\n",
       "      <td>6</td>\n",
       "    </tr>\n",
       "    <tr>\n",
       "      <th>178</th>\n",
       "      <td>8</td>\n",
       "      <td>2</td>\n",
       "    </tr>\n",
       "  </tbody>\n",
       "</table>\n",
       "<p>128 rows × 2 columns</p>\n",
       "</div>"
      ],
      "text/plain": [
       "No_Show          No   Yes\n",
       "Waiting_Days             \n",
       "0             40870  2905\n",
       "1              5123  1602\n",
       "2              2093   644\n",
       "3              4059  1231\n",
       "4              2405   872\n",
       "5              3036  1001\n",
       "6              3597  1309\n",
       "7              1662   670\n",
       "8              1165   440\n",
       "9               951   440\n",
       "10              675   312\n",
       "11              762   353\n",
       "12             1146   536\n",
       "13             2000   913\n",
       "14             1001   502\n",
       "15              800   351\n",
       "16              757   350\n",
       "17              709   312\n",
       "18              681   363\n",
       "19              779   408\n",
       "20             1286   575\n",
       "21              769   404\n",
       "22              546   276\n",
       "23              387   235\n",
       "24              381   256\n",
       "25              468   263\n",
       "26              693   320\n",
       "27             1203   503\n",
       "28              733   356\n",
       "29              517   187\n",
       "...             ...   ...\n",
       "100               1     0\n",
       "101               3     1\n",
       "102               2     3\n",
       "103               2     6\n",
       "104               4     0\n",
       "106               2     0\n",
       "107               5     0\n",
       "108               5     0\n",
       "109               1     1\n",
       "110               4     1\n",
       "111               5     0\n",
       "114               2     0\n",
       "116               1     0\n",
       "118               4     0\n",
       "121               3     0\n",
       "122               1     0\n",
       "124               1     0\n",
       "125               0     1\n",
       "126               1     0\n",
       "131               0     1\n",
       "132               7     4\n",
       "138               0     1\n",
       "141               5     3\n",
       "145               0     1\n",
       "150               0     1\n",
       "154               4     6\n",
       "161               9     2\n",
       "168               7     1\n",
       "175              10     6\n",
       "178               8     2\n",
       "\n",
       "[128 rows x 2 columns]"
      ]
     },
     "execution_count": 159,
     "metadata": {},
     "output_type": "execute_result"
    }
   ],
   "source": [
    "#Create a contingency table: Appointment_Weekday vs. No-show (to check proportionally)\n",
    "waiting_days_vs_no_show = pd.crosstab(index = df['Waiting_Days'], columns = df['No_Show'])\n",
    "waiting_days_vs_no_show"
   ]
  },
  {
   "cell_type": "code",
   "execution_count": 160,
   "metadata": {
    "scrolled": true
   },
   "outputs": [
    {
     "data": {
      "image/png": "[encoded data removed]",
      "text/plain": [
       "<matplotlib.figure.Figure at 0x7f870117d518>"
      ]
     },
     "metadata": {
      "needs_background": "light"
     },
     "output_type": "display_data"
    }
   ],
   "source": [
    "#Plot Waiting Days vs Show ups and No Show ups\n",
    "waitingdays_shows = df['Waiting_Days'][shows].value_counts()\n",
    "waitingdays_noshows= df['Waiting_Days'][no_shows].value_counts()\n",
    "\n",
    "waitingdays_shows.plot(kind='bar', color='palegreen',linewidth=3.0, figsize=(20,10))\n",
    "waitingdays_noshows.plot(kind='bar', color='pink',linewidth=3.0, figsize=(20,8))\n",
    "plt.xlabel('Waiting Days',fontsize=20)\n",
    "plt.ylabel('Number of Appointments',fontsize=20)\n",
    "plt.title('\\nWaiting Days vs Appointment Status\\n',fontsize=24)\n",
    "L=plt.legend(fancybox=True, framealpha=0.9, fontsize=20)\n",
    "L.get_texts()[0].set_text('Showed up')\n",
    "L.get_texts()[1].set_text('No Showed up');"
   ]
  },
  {
   "cell_type": "markdown",
   "metadata": {},
   "source": [
    "The most relevant insight of this plot is that a large majority scheduled the appointment the same days they attended, causing a very positive trend in attendance. **The shorten awaiting period the more patients show up.**"
   ]
  },
  {
   "cell_type": "markdown",
   "metadata": {},
   "source": [
    "<a id='conclusions'></a>\n",
    "## Conclusions\n",
    "\n",
    "1. The majority of appointment status are **show up (79.8%)**, while those marked as **not show up** represent only the **20.2%** of the total number of records.\n",
    "\n",
    "\n",
    "2. We can see in the chart above that **patients whose age is above 60 take appointment more seriously** than patients under that age.\n",
    "\n",
    "\n",
    "3. Patients **between 9 and 45 years old** are those that represents a **greater proportion of no showed up appointmens,** while **patients above 60 take \n",
    "appointment more seriously**\n",
    "\n",
    "\n",
    "4. There are **more patients who did not attend the appointment and got a reminder SMS than those who did not attend it without having received it.**\n",
    "\n",
    "\n",
    "5. The **Top 10 neighborhoods** with the highest number of **no-show ups** are, in order: Jardim Camburi, Maria Ortiz, Itararé, Resistência, Centro, Jesus De Nazareth, Jardim Da Penha, Caratoíra, Tabuazeiro Y Bonfim.\n",
    "\n",
    "\n",
    "6. **Wednesdays and Tuesdays** are the days with the **highest number of appointments**, while **Thursday and Saturday** are the days with the **least number of appointments**, although there is no significant relationship between the date of the appointment and its final status.\n",
    "\n",
    "\n",
    "7. **The shorten awaiting period the more patients show up.**\n",
    "\n",
    "\n",
    ">Variables that show a significant relationship with the status of the appointment according to statistical tests:\n",
    ">-\tAge \n",
    ">-\tScholarship\n",
    ">-\tHipertension\n",
    ">-\tDiabetes\n",
    ">-\tSMS_received\n",
    "\n",
    "\n",
    "\n",
    "## Limitations\n",
    "\n",
    "• **The time period over the data is collected is relatively small** (6 months), if we had data referring to a longer period of time we would have drawn conclusions regarding seasonality and the rate of variation over the years.\n",
    "\n",
    "• **The sample is very unbalanced** since we only have the 20% of records for non-show, which results in a strong limitation of the study of their causes.\n",
    "\n",
    "• **Limitations of chi-square**: if the test result comes out as a meaningfult relathionship between the variables, that means there is some association but it does not provide further information. \n",
    "\n"
   ]
  },
  {
   "cell_type": "code",
   "execution_count": 163,
   "metadata": {},
   "outputs": [
    {
     "data": {
      "text/plain": [
       "0"
      ]
     },
     "execution_count": 163,
     "metadata": {},
     "output_type": "execute_result"
    }
   ],
   "source": [
    "from subprocess import call\n",
    "call(['python', '-m', 'nbconvert', 'Investigate_a_Dataset.ipynb'])"
   ]
  }
 ],
 "metadata": {
  "kernelspec": {
   "display_name": "Python 3",
   "language": "python",
   "name": "python3"
  },
  "language_info": {
   "codemirror_mode": {
    "name": "ipython",
    "version": 3
   },
   "file_extension": ".py",
   "mimetype": "text/x-python",
   "name": "python",
   "nbconvert_exporter": "python",
   "pygments_lexer": "ipython3",
   "version": "3.6.3"
  }
 },
 "nbformat": 4,
 "nbformat_minor": 2
}
